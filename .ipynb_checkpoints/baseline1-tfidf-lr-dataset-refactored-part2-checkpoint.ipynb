{
 "cells": [
  {
   "cell_type": "code",
   "execution_count": 1,
   "metadata": {},
   "outputs": [],
   "source": [
    "import matplotlib.pyplot as plt\n",
    "import warnings\n",
    "warnings.filterwarnings('ignore')\n",
    "%matplotlib inline"
   ]
  },
  {
   "cell_type": "code",
   "execution_count": 2,
   "metadata": {},
   "outputs": [],
   "source": [
    "from utils.grid_baseline1 import run"
   ]
  },
  {
   "cell_type": "code",
   "execution_count": 3,
   "metadata": {},
   "outputs": [],
   "source": [
    "# tmp\n",
    "import pandas as pd"
   ]
  },
  {
   "cell_type": "code",
   "execution_count": 4,
   "metadata": {},
   "outputs": [
    {
     "name": "stdout",
     "output_type": "stream",
     "text": [
      "Dataset: b5post and task: TI\n",
      "\n",
      "training set:  (652, 3)\n",
      "TI\n",
      "no     390\n",
      "yes    262\n",
      "dtype: int64\n",
      "\n",
      "test set:  (163, 3)\n",
      "TI\n",
      "no     101\n",
      "yes     62\n",
      "dtype: int64\n",
      "\n",
      "Performing grid search...\n",
      "Pipeline steps: ['vect', 'tfidf', 'clf']\n",
      "done in 847.32s and 14.1min\n",
      "\n",
      "Best score: 0.715\n",
      "Best parameters set:\n",
      "\tclf__C: 10000.0\n",
      "\tclf__penalty: 'l1'\n",
      "\tvect__max_df: 0.9\n",
      "\tvect__max_features: None\n",
      "\n",
      "\n",
      "              precision    recall  f1-score   support\n",
      "\n",
      "           0       0.79      0.83      0.81       101\n",
      "           1       0.70      0.65      0.67        62\n",
      "\n",
      "   micro avg       0.76      0.76      0.76       163\n",
      "   macro avg       0.75      0.74      0.74       163\n",
      "weighted avg       0.76      0.76      0.76       163\n",
      "\n",
      "Accuracy 0.7607361963190185\n",
      "F1_score 0.758599305286265\n",
      "[[84 17]\n",
      " [22 40]]\n",
      "(163, 1) (163,)\n",
      "Error plotting ROC curve\n",
      "\n",
      "\n",
      "+ ------------------------------------------------------------ +\n",
      "\n",
      "Dataset: brmoral and task: TI\n",
      "\n",
      "training set:  (325, 3)\n",
      "TI\n",
      "N    107\n",
      "S    218\n",
      "dtype: int64\n",
      "\n",
      "test set:  (82, 3)\n",
      "TI\n",
      "N    23\n",
      "S    59\n",
      "dtype: int64\n",
      "\n",
      "Performing grid search...\n",
      "Pipeline steps: ['vect', 'tfidf', 'clf']\n",
      "done in 86.59s and 1.4min\n",
      "\n",
      "Best score: 0.720\n",
      "Best parameters set:\n",
      "\tclf__C: 8571.428585714286\n",
      "\tclf__penalty: 'l1'\n",
      "\tvect__max_df: 0.8\n",
      "\tvect__max_features: None\n",
      "\n",
      "\n",
      "              precision    recall  f1-score   support\n",
      "\n",
      "           0       0.38      0.26      0.31        23\n",
      "           1       0.74      0.83      0.78        59\n",
      "\n",
      "   micro avg       0.67      0.67      0.67        82\n",
      "   macro avg       0.56      0.55      0.55        82\n",
      "weighted avg       0.64      0.67      0.65        82\n",
      "\n",
      "Accuracy 0.6707317073170732\n",
      "F1_score 0.6504015009380862\n",
      "[[ 6 17]\n",
      " [10 49]]\n",
      "(82, 1) (82,)\n",
      "Error plotting ROC curve\n",
      "\n",
      "\n",
      "+ ------------------------------------------------------------ +\n",
      "\n"
     ]
    },
    {
     "name": "stderr",
     "output_type": "stream",
     "text": [
      "/usr/local/lib/python3.5/dist-packages/sklearn/model_selection/_search.py:841: DeprecationWarning: The default of the `iid` parameter will change from True to False in version 0.22 and will be removed in 0.24. This will change numeric results when test-set sizes are unequal.\n",
      "  DeprecationWarning)\n"
     ]
    }
   ],
   "source": [
    "run('TI')"
   ]
  },
  {
   "cell_type": "code",
   "execution_count": null,
   "metadata": {
    "scrolled": false
   },
   "outputs": [
    {
     "name": "stdout",
     "output_type": "stream",
     "text": [
      "Dataset: b5post and task: age\n",
      "\n",
      "training set:  (413, 3)\n",
      "age\n",
      "a18-20    151\n",
      "a23-25    149\n",
      "a28-61    113\n",
      "dtype: int64\n",
      "\n",
      "test set:  (104, 3)\n",
      "age\n",
      "a18-20    31\n",
      "a23-25    40\n",
      "a28-61    33\n",
      "dtype: int64\n",
      "\n",
      "Performing grid search...\n",
      "Pipeline steps: ['vect', 'tfidf', 'clf']\n"
     ]
    },
    {
     "name": "stderr",
     "output_type": "stream",
     "text": [
      "/usr/local/lib/python3.5/dist-packages/sklearn/model_selection/_search.py:841: DeprecationWarning: The default of the `iid` parameter will change from True to False in version 0.22 and will be removed in 0.24. This will change numeric results when test-set sizes are unequal.\n",
      "  DeprecationWarning)\n"
     ]
    },
    {
     "name": "stdout",
     "output_type": "stream",
     "text": [
      "done in 549.21s and 9.2min\n",
      "\n",
      "Best score: 0.586\n",
      "Best parameters set:\n",
      "\tclf__C: 4285.7143428571435\n",
      "\tclf__penalty: 'l2'\n",
      "\tvect__max_df: 0.8\n",
      "\tvect__max_features: None\n",
      "\n",
      "\n",
      "              precision    recall  f1-score   support\n",
      "\n",
      "           0       0.57      0.77      0.66        31\n",
      "           1       0.58      0.53      0.55        40\n",
      "           2       0.77      0.61      0.68        33\n",
      "\n",
      "   micro avg       0.62      0.62      0.62       104\n",
      "   macro avg       0.64      0.64      0.63       104\n",
      "weighted avg       0.64      0.62      0.62       104\n",
      "\n",
      "Accuracy 0.625\n",
      "F1_score 0.6236702515159861\n",
      "[[24  7  0]\n",
      " [13 21  6]\n",
      " [ 5  8 20]]\n",
      "(104, 3) (104, 3)\n"
     ]
    },
    {
     "data": {
      "image/png": "[encoded data removed]",
      "text/plain": [
       "<matplotlib.figure.Figure at 0x7f202b8e2438>"
      ]
     },
     "metadata": {},
     "output_type": "display_data"
    },
    {
     "name": "stdout",
     "output_type": "stream",
     "text": [
      "\n",
      "\n",
      "+ ------------------------------------------------------------ +\n",
      "\n",
      "Dataset: esic and task: age\n",
      "\n",
      "training set:  (91676, 3)\n",
      "age\n",
      "a17-29    22460\n",
      "a31-42    34721\n",
      "a43-80    34495\n",
      "dtype: int64\n",
      "\n",
      "test set:  (22920, 3)\n",
      "age\n",
      "a17-29    5594\n",
      "a31-42    8673\n",
      "a43-80    8653\n",
      "dtype: int64\n",
      "\n",
      "Performing grid search...\n",
      "Pipeline steps: ['vect', 'tfidf', 'clf']\n",
      "done in 30560.29s and 509.3min\n",
      "\n",
      "Best score: 0.539\n",
      "Best parameters set:\n",
      "\tclf__C: 1428.5715142857143\n",
      "\tclf__penalty: 'l2'\n",
      "\tvect__max_df: 0.8\n",
      "\tvect__max_features: 3000\n",
      "\n",
      "\n",
      "              precision    recall  f1-score   support\n",
      "\n",
      "           0       0.50      0.40      0.44      5594\n",
      "           1       0.50      0.49      0.50      8673\n",
      "           2       0.59      0.68      0.64      8653\n",
      "\n",
      "   micro avg       0.54      0.54      0.54     22920\n",
      "   macro avg       0.53      0.52      0.52     22920\n",
      "weighted avg       0.54      0.54      0.54     22920\n",
      "\n",
      "Accuracy 0.5408376963350785\n",
      "F1_score 0.535481000851553\n",
      "[[2211 2190 1193]\n",
      " [1541 4275 2857]\n",
      " [ 663 2080 5910]]\n",
      "(22920, 3) (22920, 3)\n"
     ]
    },
    {
     "data": {
      "image/png": "[encoded data removed]",
      "text/plain": [
       "<matplotlib.figure.Figure at 0x7f202b9143c8>"
      ]
     },
     "metadata": {},
     "output_type": "display_data"
    },
    {
     "name": "stdout",
     "output_type": "stream",
     "text": [
      "\n",
      "\n",
      "+ ------------------------------------------------------------ +\n",
      "\n",
      "Dataset: brmoral and task: age\n",
      "\n",
      "training set:  (266, 3)\n",
      "age\n",
      "a17-22    91\n",
      "a25-29    92\n",
      "a31-46    83\n",
      "dtype: int64\n",
      "\n",
      "test set:  (67, 3)\n",
      "age\n",
      "a17-22    22\n",
      "a25-29    17\n",
      "a31-46    28\n",
      "dtype: int64\n",
      "\n",
      "Performing grid search...\n",
      "Pipeline steps: ['vect', 'tfidf', 'clf']\n"
     ]
    },
    {
     "name": "stderr",
     "output_type": "stream",
     "text": [
      "/usr/local/lib/python3.5/dist-packages/sklearn/model_selection/_search.py:841: DeprecationWarning: The default of the `iid` parameter will change from True to False in version 0.22 and will be removed in 0.24. This will change numeric results when test-set sizes are unequal.\n",
      "  DeprecationWarning)\n"
     ]
    },
    {
     "name": "stdout",
     "output_type": "stream",
     "text": [
      "done in 75.73s and 1.3min\n",
      "\n",
      "Best score: 0.492\n",
      "Best parameters set:\n",
      "\tclf__C: 2857.142928571429\n",
      "\tclf__penalty: 'l2'\n",
      "\tvect__max_df: 0.8\n",
      "\tvect__max_features: 1000\n",
      "\n",
      "\n",
      "              precision    recall  f1-score   support\n",
      "\n",
      "           0       0.50      0.50      0.50        22\n",
      "           1       0.33      0.47      0.39        17\n",
      "           2       0.57      0.43      0.49        28\n",
      "\n",
      "   micro avg       0.46      0.46      0.46        67\n",
      "   macro avg       0.47      0.47      0.46        67\n",
      "weighted avg       0.49      0.46      0.47        67\n",
      "\n",
      "Accuracy 0.4626865671641791\n",
      "F1_score 0.4678870456081959\n",
      "[[11  6  5]\n",
      " [ 5  8  4]\n",
      " [ 6 10 12]]\n",
      "(67, 3) (67, 3)\n"
     ]
    },
    {
     "data": {
      "image/png": "[encoded data removed]",
      "text/plain": [
       "<matplotlib.figure.Figure at 0x7f20245f0d68>"
      ]
     },
     "metadata": {},
     "output_type": "display_data"
    },
    {
     "name": "stdout",
     "output_type": "stream",
     "text": [
      "\n",
      "\n",
      "+ ------------------------------------------------------------ +\n",
      "\n",
      "Dataset: enblogs and task: age\n",
      "\n",
      "training set:  (15394, 3)\n",
      "age\n",
      "10s    6584\n",
      "20s    6479\n",
      "30s    2331\n",
      "dtype: int64\n",
      "\n",
      "test set:  (3849, 3)\n",
      "age\n",
      "10s    1656\n",
      "20s    1607\n",
      "30s     586\n",
      "dtype: int64\n",
      "\n",
      "Performing grid search...\n",
      "Pipeline steps: ['vect', 'tfidf', 'clf']\n"
     ]
    }
   ],
   "source": [
    "run('age')"
   ]
  },
  {
   "cell_type": "code",
   "execution_count": null,
   "metadata": {},
   "outputs": [],
   "source": [
    "run('gender')"
   ]
  },
  {
   "cell_type": "code",
   "execution_count": null,
   "metadata": {},
   "outputs": [],
   "source": [
    "run('region')"
   ]
  },
  {
   "cell_type": "code",
   "execution_count": null,
   "metadata": {},
   "outputs": [],
   "source": [
    "run('education')"
   ]
  },
  {
   "cell_type": "code",
   "execution_count": null,
   "metadata": {},
   "outputs": [],
   "source": [
    "run('professional')"
   ]
  },
  {
   "cell_type": "code",
   "execution_count": null,
   "metadata": {},
   "outputs": [],
   "source": [
    "run('polit')"
   ]
  },
  {
   "cell_type": "code",
   "execution_count": null,
   "metadata": {},
   "outputs": [],
   "source": [
    "run('relig')"
   ]
  },
  {
   "cell_type": "code",
   "execution_count": null,
   "metadata": {},
   "outputs": [],
   "source": []
  }
 ],
 "metadata": {
  "kernelspec": {
   "display_name": "Python 3",
   "language": "python",
   "name": "python3"
  },
  "language_info": {
   "codemirror_mode": {
    "name": "ipython",
    "version": 3
   },
   "file_extension": ".py",
   "mimetype": "text/x-python",
   "name": "python",
   "nbconvert_exporter": "python",
   "pygments_lexer": "ipython3",
   "version": "3.5.2"
  }
 },
 "nbformat": 4,
 "nbformat_minor": 2
}
