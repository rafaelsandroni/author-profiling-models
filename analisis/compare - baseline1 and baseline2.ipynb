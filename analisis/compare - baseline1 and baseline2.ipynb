{
 "cells": [
  {
   "cell_type": "code",
   "execution_count": 244,
   "metadata": {},
   "outputs": [],
   "source": [
    "import pandas as pd\n",
    "import numpy as np\n",
    "from sklearn.metrics import f1_score, classification_report\n",
    "from Models.functions.utils import listProblems\n",
    "from Models.functions.plot import confusion_matrix, plot_confusion_matrix\n",
    "import matplotlib.pyplot as plt"
   ]
  },
  {
   "cell_type": "code",
   "execution_count": 245,
   "metadata": {},
   "outputs": [],
   "source": [
    "from pprint import pprint"
   ]
  },
  {
   "cell_type": "code",
   "execution_count": 246,
   "metadata": {},
   "outputs": [],
   "source": [
    "baseline1 = '../baseline1/Reports_v2_balanced/'\n",
    "baseline2 = '../baseline2/Reports/'\n",
    "baseline3 = '../baseline3/Reports/'\n"
   ]
  },
  {
   "cell_type": "code",
   "execution_count": 247,
   "metadata": {},
   "outputs": [],
   "source": [
    "import os"
   ]
  },
  {
   "cell_type": "code",
   "execution_count": 271,
   "metadata": {},
   "outputs": [
    {
     "name": "stdout",
     "output_type": "stream",
     "text": [
      "confusion_matrix.csv\t histories_cnn1.pkl\t   predicted.numpy.npy\r\n",
      "confusion_matrix.npy\t histories.pkl\t\t   predicted_proba.numpy.npy\r\n",
      "confusion_matrix.pdf\t plot_training.pdf\t   report.csv\r\n",
      "expected_cnn1.numpy.npy  plot_validation.pdf\t   ROC_curve_class_female.pdf\r\n",
      "expected.numpy.npy\t predicted_cnn1.numpy.npy  score_cnn1.numpy.npy\r\n"
     ]
    }
   ],
   "source": [
    "!ls {baseline3}'/gender/b5post'"
   ]
  },
  {
   "cell_type": "code",
   "execution_count": 249,
   "metadata": {},
   "outputs": [
    {
     "data": {
      "text/html": [
       "<div>\n",
       "<style>\n",
       "    .dataframe thead tr:only-child th {\n",
       "        text-align: right;\n",
       "    }\n",
       "\n",
       "    .dataframe thead th {\n",
       "        text-align: left;\n",
       "    }\n",
       "\n",
       "    .dataframe tbody tr th {\n",
       "        vertical-align: top;\n",
       "    }\n",
       "</style>\n",
       "<table border=\"1\" class=\"dataframe\">\n",
       "  <thead>\n",
       "    <tr style=\"text-align: right;\">\n",
       "      <th></th>\n",
       "      <th>task</th>\n",
       "      <th>lang</th>\n",
       "      <th>version</th>\n",
       "      <th>shape</th>\n",
       "    </tr>\n",
       "    <tr>\n",
       "      <th>dataset</th>\n",
       "      <th></th>\n",
       "      <th></th>\n",
       "      <th></th>\n",
       "      <th></th>\n",
       "    </tr>\n",
       "  </thead>\n",
       "  <tbody>\n",
       "    <tr>\n",
       "      <th>pan13</th>\n",
       "      <td>gender</td>\n",
       "      <td>en</td>\n",
       "      <td>1</td>\n",
       "      <td>(236600,)</td>\n",
       "    </tr>\n",
       "    <tr>\n",
       "      <th>pan13</th>\n",
       "      <td>gender</td>\n",
       "      <td>es</td>\n",
       "      <td>1</td>\n",
       "      <td>(75900,)</td>\n",
       "    </tr>\n",
       "    <tr>\n",
       "      <th>pan13</th>\n",
       "      <td>age</td>\n",
       "      <td>en</td>\n",
       "      <td>1</td>\n",
       "      <td>(400800,)</td>\n",
       "    </tr>\n",
       "    <tr>\n",
       "      <th>pan13</th>\n",
       "      <td>age</td>\n",
       "      <td>es</td>\n",
       "      <td>1</td>\n",
       "      <td>(127800,)</td>\n",
       "    </tr>\n",
       "    <tr>\n",
       "      <th>smscorpus</th>\n",
       "      <td>gender</td>\n",
       "      <td>en</td>\n",
       "      <td>1</td>\n",
       "      <td>(45554, 2)</td>\n",
       "    </tr>\n",
       "    <tr>\n",
       "      <th>smscorpus</th>\n",
       "      <td>age</td>\n",
       "      <td>en</td>\n",
       "      <td>1</td>\n",
       "      <td>(53361, 3)</td>\n",
       "    </tr>\n",
       "    <tr>\n",
       "      <th>brblogset</th>\n",
       "      <td>gender</td>\n",
       "      <td>pt</td>\n",
       "      <td>1</td>\n",
       "      <td>(2482, 2)</td>\n",
       "    </tr>\n",
       "    <tr>\n",
       "      <th>brblogset</th>\n",
       "      <td>age</td>\n",
       "      <td>pt</td>\n",
       "      <td>1</td>\n",
       "      <td>(2451, 3)</td>\n",
       "    </tr>\n",
       "    <tr>\n",
       "      <th>brblogset</th>\n",
       "      <td>education</td>\n",
       "      <td>pt</td>\n",
       "      <td>1</td>\n",
       "      <td>(1504, 4)</td>\n",
       "    </tr>\n",
       "    <tr>\n",
       "      <th>enblog</th>\n",
       "      <td>gender</td>\n",
       "      <td>en</td>\n",
       "      <td>1</td>\n",
       "      <td>(15548, 2)</td>\n",
       "    </tr>\n",
       "    <tr>\n",
       "      <th>enblog</th>\n",
       "      <td>age</td>\n",
       "      <td>en</td>\n",
       "      <td>1</td>\n",
       "      <td>(19752, 3)</td>\n",
       "    </tr>\n",
       "    <tr>\n",
       "      <th>brmoral</th>\n",
       "      <td>gender</td>\n",
       "      <td>pt</td>\n",
       "      <td>0</td>\n",
       "      <td>(460,)</td>\n",
       "    </tr>\n",
       "    <tr>\n",
       "      <th>brmoral</th>\n",
       "      <td>age</td>\n",
       "      <td>pt</td>\n",
       "      <td>0</td>\n",
       "      <td>(381,)</td>\n",
       "    </tr>\n",
       "    <tr>\n",
       "      <th>brmoral</th>\n",
       "      <td>religion</td>\n",
       "      <td>pt</td>\n",
       "      <td>0</td>\n",
       "      <td>(432,)</td>\n",
       "    </tr>\n",
       "    <tr>\n",
       "      <th>brmoral</th>\n",
       "      <td>education</td>\n",
       "      <td>pt</td>\n",
       "      <td>0</td>\n",
       "      <td>(387,)</td>\n",
       "    </tr>\n",
       "    <tr>\n",
       "      <th>brmoral</th>\n",
       "      <td>it</td>\n",
       "      <td>pt</td>\n",
       "      <td>0</td>\n",
       "      <td>(468,)</td>\n",
       "    </tr>\n",
       "    <tr>\n",
       "      <th>brmoral</th>\n",
       "      <td>politics</td>\n",
       "      <td>pt</td>\n",
       "      <td>0</td>\n",
       "      <td>(396,)</td>\n",
       "    </tr>\n",
       "    <tr>\n",
       "      <th>b5post</th>\n",
       "      <td>gender</td>\n",
       "      <td>pt</td>\n",
       "      <td>0</td>\n",
       "      <td>(930,)</td>\n",
       "    </tr>\n",
       "    <tr>\n",
       "      <th>b5post</th>\n",
       "      <td>age</td>\n",
       "      <td>pt</td>\n",
       "      <td>0</td>\n",
       "      <td>(453,)</td>\n",
       "    </tr>\n",
       "    <tr>\n",
       "      <th>b5post</th>\n",
       "      <td>religion</td>\n",
       "      <td>pt</td>\n",
       "      <td>0</td>\n",
       "      <td>(525,)</td>\n",
       "    </tr>\n",
       "    <tr>\n",
       "      <th>b5post</th>\n",
       "      <td>it</td>\n",
       "      <td>pt</td>\n",
       "      <td>0</td>\n",
       "      <td>(780,)</td>\n",
       "    </tr>\n",
       "    <tr>\n",
       "      <th>esic</th>\n",
       "      <td>gender</td>\n",
       "      <td>pt</td>\n",
       "      <td>0</td>\n",
       "      <td>(102336,)</td>\n",
       "    </tr>\n",
       "    <tr>\n",
       "      <th>esic</th>\n",
       "      <td>age</td>\n",
       "      <td>pt</td>\n",
       "      <td>0</td>\n",
       "      <td>(91002,)</td>\n",
       "    </tr>\n",
       "    <tr>\n",
       "      <th>esic</th>\n",
       "      <td>education</td>\n",
       "      <td>pt</td>\n",
       "      <td>0</td>\n",
       "      <td>(106497,)</td>\n",
       "    </tr>\n",
       "    <tr>\n",
       "      <th>esic</th>\n",
       "      <td>profession</td>\n",
       "      <td>pt</td>\n",
       "      <td>0</td>\n",
       "      <td>(81068,)</td>\n",
       "    </tr>\n",
       "    <tr>\n",
       "      <th>esic</th>\n",
       "      <td>region</td>\n",
       "      <td>pt</td>\n",
       "      <td>0</td>\n",
       "      <td>(204495,)</td>\n",
       "    </tr>\n",
       "    <tr>\n",
       "      <th>esic</th>\n",
       "      <td>city</td>\n",
       "      <td>pt</td>\n",
       "      <td>0</td>\n",
       "      <td>(87696, 2)</td>\n",
       "    </tr>\n",
       "  </tbody>\n",
       "</table>\n",
       "</div>"
      ],
      "text/plain": [
       "                 task lang  version       shape\n",
       "dataset                                        \n",
       "pan13          gender   en        1   (236600,)\n",
       "pan13          gender   es        1    (75900,)\n",
       "pan13             age   en        1   (400800,)\n",
       "pan13             age   es        1   (127800,)\n",
       "smscorpus      gender   en        1  (45554, 2)\n",
       "smscorpus         age   en        1  (53361, 3)\n",
       "brblogset      gender   pt        1   (2482, 2)\n",
       "brblogset         age   pt        1   (2451, 3)\n",
       "brblogset   education   pt        1   (1504, 4)\n",
       "enblog         gender   en        1  (15548, 2)\n",
       "enblog            age   en        1  (19752, 3)\n",
       "brmoral        gender   pt        0      (460,)\n",
       "brmoral           age   pt        0      (381,)\n",
       "brmoral      religion   pt        0      (432,)\n",
       "brmoral     education   pt        0      (387,)\n",
       "brmoral            it   pt        0      (468,)\n",
       "brmoral      politics   pt        0      (396,)\n",
       "b5post         gender   pt        0      (930,)\n",
       "b5post            age   pt        0      (453,)\n",
       "b5post       religion   pt        0      (525,)\n",
       "b5post             it   pt        0      (780,)\n",
       "esic           gender   pt        0   (102336,)\n",
       "esic              age   pt        0    (91002,)\n",
       "esic        education   pt        0   (106497,)\n",
       "esic       profession   pt        0    (81068,)\n",
       "esic           region   pt        0   (204495,)\n",
       "esic             city   pt        0  (87696, 2)"
      ]
     },
     "execution_count": 249,
     "metadata": {},
     "output_type": "execute_result"
    }
   ],
   "source": [
    "p = listProblems()\n",
    "preds = []\n",
    "for p1 in p:\n",
    "    # print(p1)\n",
    "    dataset = p1[1]\n",
    "    lang = p1[2]\n",
    "    bar = '/'\n",
    "    try:\n",
    "        pred = baseline2 + '/'+p1[0]+bar+ dataset +'_'+lang+bar+'predicted.numpy.npy'        \n",
    "        pred = np.load(pred)\n",
    "        v = 1\n",
    "    except:\n",
    "        try:\n",
    "            pred = baseline2 + '/'+p1[0]+bar+ dataset +''+bar+'predicted.numpy.npy'\n",
    "            pred = np.load(pred)\n",
    "            v = 0\n",
    "        except:\n",
    "            pred = (0,0)\n",
    "            v = None\n",
    "    \n",
    "        \n",
    "    try:\n",
    "        preds.append([p1[0],dataset,lang, v, pred.shape])\n",
    "    except:\n",
    "        preds.append([p1[0],dataset,lang, v, pred])\n",
    "    #preds[p1[0]] = pred.shape\n",
    "    \n",
    "df = pd.DataFrame(preds, columns=['task','dataset','lang','version','shape'])\n",
    "df.set_index('dataset')"
   ]
  },
  {
   "cell_type": "code",
   "execution_count": 272,
   "metadata": {},
   "outputs": [],
   "source": [
    "def check(dataset_name, task,v=1):\n",
    "    \"\"\"\n",
    "    params: task\n",
    "    return: dataframe\n",
    "    \"\"\"\n",
    "    results = pd.DataFrame({'dataset': [], 'lang': [], 'task': [], 'baseline1': [], 'baseline2': [], 'baseline3': []})\n",
    "    for p in listProblems(filter_dataset_name = dataset_name, filter_task = task):\n",
    "        bar = '/'\n",
    "        task = p[0]\n",
    "        dataset_name = p[1]\n",
    "        lang = p[2]\n",
    "        lang2 = '_'+lang\n",
    "        \n",
    "        # balanced\n",
    "        exp  = baseline1 + task +bar+ dataset_name +lang2+bar+'expected_y.numpy.npy'\n",
    "        pred = baseline1 + task +bar+ dataset_name +lang2+bar+'predicted_y.numpy.npy'\n",
    "        exp, pred = np.load(exp), np.load(pred)\n",
    "        f1_1 = f1_score(exp, pred, average=\"macro\")\n",
    "        \n",
    "        lang2 = '_'+lang if v == 1 else ''        \n",
    "        \n",
    "        if os.path.exists(baseline2 + task +bar+ dataset_name +lang2+bar):\n",
    "            exp  = baseline2 + task +bar+ dataset_name +lang2+bar+'expected.numpy.npy'\n",
    "            pred = baseline2 + task +bar+ dataset_name +lang2+bar+'predicted_proba.numpy.npy'\n",
    "        elif os.path.exists(baseline2 + task +bar+ dataset_name +bar):\n",
    "            exp  = baseline2 + task +bar+ dataset_name +bar+'expected.numpy.npy'\n",
    "            pred = baseline2 + task +bar+ dataset_name +bar+'predicted_proba.numpy.npy'\n",
    "        else:\n",
    "            exp  = '/tmp/'\n",
    "            pred = '/tmp/'\n",
    "        \n",
    "        exp, pred = np.load(exp), np.load(pred)\n",
    "        \n",
    "        if type(pred[0]) != np.int64 and len(pred[0]) > 1:        \n",
    "            pred = np.argmax(pred, axis=1)\n",
    "        \n",
    "        f1_2 = f1_score(exp, pred, average=\"macro\")\n",
    "        \n",
    "        exp  = baseline3 + task +bar+ dataset_name +'_'+lang+bar+'expected.numpy.npy'\n",
    "        pred = baseline3 + task +bar+ dataset_name +'_'+lang+bar+'predicted.numpy.npy'\n",
    "        exp, pred = np.load(exp), np.load(pred)\n",
    "        f1_3 = f1_score(exp, pred, average=\"macro\")\n",
    "\n",
    "        results = results.append({'idx': dataset_name+'_'+task+'_'+lang , 'dataset': dataset_name, 'lang': lang, 'task': task, 'baseline1': f1_1, 'baseline2': f1_2, 'baseline3': f1_3}, ignore_index=True)\n",
    "        \n",
    "    results = results.set_index('idx')\n",
    "    return results"
   ]
  },
  {
   "cell_type": "code",
   "execution_count": 277,
   "metadata": {},
   "outputs": [
    {
     "name": "stdout",
     "output_type": "stream",
     "text": [
      "                  baseline1  baseline2  baseline3 dataset lang    task\n",
      "idx                                                                   \n",
      "b5post_gender_pt   0.866651   0.625177   0.533351  b5post   pt  gender\n"
     ]
    },
    {
     "data": {
      "image/png": "[encoded data removed]",
      "text/plain": [
       "<matplotlib.figure.Figure at 0x7fcb38cd2588>"
      ]
     },
     "metadata": {},
     "output_type": "display_data"
    }
   ],
   "source": [
    "df = check('b5post','gender',v=1)\n",
    "df.plot(kind='bar')\n",
    "print(df)"
   ]
  },
  {
   "cell_type": "code",
   "execution_count": 266,
   "metadata": {},
   "outputs": [
    {
     "name": "stdout",
     "output_type": "stream",
     "text": [
      "                      baseline1  baseline2  baseline3  dataset lang       task\n",
      "idx                                                                           \n",
      "brmoral_gender_pt      0.628077   0.544545        NaN  brmoral   pt     gender\n",
      "brmoral_age_pt         0.404076   0.335857        NaN  brmoral   pt        age\n",
      "brmoral_religion_pt    0.406396   0.355697        NaN  brmoral   pt   religion\n",
      "brmoral_education_pt   0.402892   0.306579        NaN  brmoral   pt  education\n",
      "brmoral_it_pt          0.631188   0.596791        NaN  brmoral   pt         it\n",
      "brmoral_politics_pt    0.491131   0.377561        NaN  brmoral   pt   politics\n"
     ]
    },
    {
     "data": {
      "image/png": "[encoded data removed]",
      "text/plain": [
       "<matplotlib.figure.Figure at 0x7fcb38d7bac8>"
      ]
     },
     "metadata": {},
     "output_type": "display_data"
    }
   ],
   "source": [
    "df = check('brmoral',None)\n",
    "df.plot(kind='bar')#, figsize=(5,5))\n",
    "print(df)"
   ]
  },
  {
   "cell_type": "code",
   "execution_count": null,
   "metadata": {},
   "outputs": [],
   "source": []
  },
  {
   "cell_type": "code",
   "execution_count": 243,
   "metadata": {
    "scrolled": false
   },
   "outputs": [
    {
     "name": "stdout",
     "output_type": "stream",
     "text": [
      "         baseline1  baseline2  baseline3 lang        task\n",
      "dataset                                                  \n",
      "esic      0.366509   0.576841        NaN   pt      gender\n",
      "esic      0.580887   0.435316        NaN   pt         age\n",
      "esic      0.578778   0.472374        NaN   pt   education\n",
      "esic      0.533206   0.372463        NaN   pt  profession\n",
      "esic      0.604788   0.277929        NaN   pt      region\n",
      "esic      0.705607   0.574884        NaN   pt        city\n"
     ]
    },
    {
     "data": {
      "image/png": "[encoded data removed]",
      "text/plain": [
       "<matplotlib.figure.Figure at 0x7fcb38cd2c88>"
      ]
     },
     "metadata": {},
     "output_type": "display_data"
    }
   ],
   "source": [
    "df = check('esic',None)\n",
    "df.plot(kind='bar', color=('LightCoral','SkyBlue'))\n",
    "print(df)"
   ]
  },
  {
   "cell_type": "code",
   "execution_count": 240,
   "metadata": {},
   "outputs": [
    {
     "name": "stdout",
     "output_type": "stream",
     "text": [
      "           baseline1  baseline2  baseline3 lang    task\n",
      "dataset                                                \n",
      "smscorpus   0.739435   0.575025        NaN   en  gender\n",
      "smscorpus   0.657485   0.502656        NaN   en     age\n"
     ]
    },
    {
     "data": {
      "image/png": "[encoded data removed]",
      "text/plain": [
       "<matplotlib.figure.Figure at 0x7fcb2fea47f0>"
      ]
     },
     "metadata": {},
     "output_type": "display_data"
    }
   ],
   "source": [
    "df = check('smscorpus',None)\n",
    "df.plot(kind='bar')#, color=('LightCoral','SkyBlue'))\n",
    "print(df)"
   ]
  },
  {
   "cell_type": "code",
   "execution_count": 242,
   "metadata": {},
   "outputs": [
    {
     "name": "stdout",
     "output_type": "stream",
     "text": [
      "         baseline1  baseline2  baseline3 lang    task\n",
      "dataset                                              \n",
      "pan13     0.575037   0.552429        NaN   en  gender\n",
      "pan13     0.631629   0.558898        NaN   es  gender\n"
     ]
    },
    {
     "data": {
      "image/png": "[encoded data removed]",
      "text/plain": [
       "<matplotlib.figure.Figure at 0x7fcb38ddf5f8>"
      ]
     },
     "metadata": {},
     "output_type": "display_data"
    }
   ],
   "source": [
    "df = check('pan13','gender')\n",
    "df.plot(kind='bar')#, color=('LightCoral','SkyBlue'))\n",
    "print(df)"
   ]
  },
  {
   "cell_type": "code",
   "execution_count": 71,
   "metadata": {},
   "outputs": [],
   "source": [
    "from Models.functions.datasets import loadTrainTest\n",
    "from sklearn.model_selection import StratifiedKFold"
   ]
  },
  {
   "cell_type": "code",
   "execution_count": 83,
   "metadata": {},
   "outputs": [],
   "source": [
    "task = 'gender'\n",
    "dataset_name = 'pan13'\n",
    "lang = 'en'\n",
    "root = '/home/rafael/Dataframe/'\n",
    "X, _, y, _ = loadTrainTest(task, dataset_name, root, lang)"
   ]
  },
  {
   "cell_type": "code",
   "execution_count": 98,
   "metadata": {},
   "outputs": [
    {
     "ename": "KeyError",
     "evalue": "6",
     "output_type": "error",
     "traceback": [
      "\u001b[0;31m---------------------------------------------------------------------------\u001b[0m",
      "\u001b[0;31mKeyError\u001b[0m                                  Traceback (most recent call last)",
      "\u001b[0;32m<ipython-input-98-b886b7e57008>\u001b[0m in \u001b[0;36m<module>\u001b[0;34m()\u001b[0m\n\u001b[0;32m----> 1\u001b[0;31m \u001b[0my\u001b[0m\u001b[0;34m[\u001b[0m\u001b[0;36m6\u001b[0m\u001b[0;34m]\u001b[0m\u001b[0;34m,\u001b[0m \u001b[0mX\u001b[0m\u001b[0;34m[\u001b[0m\u001b[0;36m6\u001b[0m\u001b[0;34m]\u001b[0m\u001b[0;34m\u001b[0m\u001b[0m\n\u001b[0m",
      "\u001b[0;32m/usr/local/lib/python3.5/dist-packages/pandas/core/series.py\u001b[0m in \u001b[0;36m__getitem__\u001b[0;34m(self, key)\u001b[0m\n\u001b[1;32m    599\u001b[0m         \u001b[0mkey\u001b[0m \u001b[0;34m=\u001b[0m \u001b[0mcom\u001b[0m\u001b[0;34m.\u001b[0m\u001b[0m_apply_if_callable\u001b[0m\u001b[0;34m(\u001b[0m\u001b[0mkey\u001b[0m\u001b[0;34m,\u001b[0m \u001b[0mself\u001b[0m\u001b[0;34m)\u001b[0m\u001b[0;34m\u001b[0m\u001b[0m\n\u001b[1;32m    600\u001b[0m         \u001b[0;32mtry\u001b[0m\u001b[0;34m:\u001b[0m\u001b[0;34m\u001b[0m\u001b[0m\n\u001b[0;32m--> 601\u001b[0;31m             \u001b[0mresult\u001b[0m \u001b[0;34m=\u001b[0m \u001b[0mself\u001b[0m\u001b[0;34m.\u001b[0m\u001b[0mindex\u001b[0m\u001b[0;34m.\u001b[0m\u001b[0mget_value\u001b[0m\u001b[0;34m(\u001b[0m\u001b[0mself\u001b[0m\u001b[0;34m,\u001b[0m \u001b[0mkey\u001b[0m\u001b[0;34m)\u001b[0m\u001b[0;34m\u001b[0m\u001b[0m\n\u001b[0m\u001b[1;32m    602\u001b[0m \u001b[0;34m\u001b[0m\u001b[0m\n\u001b[1;32m    603\u001b[0m             \u001b[0;32mif\u001b[0m \u001b[0;32mnot\u001b[0m \u001b[0mis_scalar\u001b[0m\u001b[0;34m(\u001b[0m\u001b[0mresult\u001b[0m\u001b[0;34m)\u001b[0m\u001b[0;34m:\u001b[0m\u001b[0;34m\u001b[0m\u001b[0m\n",
      "\u001b[0;32m/usr/local/lib/python3.5/dist-packages/pandas/core/indexes/base.py\u001b[0m in \u001b[0;36mget_value\u001b[0;34m(self, series, key)\u001b[0m\n\u001b[1;32m   2475\u001b[0m         \u001b[0;32mtry\u001b[0m\u001b[0;34m:\u001b[0m\u001b[0;34m\u001b[0m\u001b[0m\n\u001b[1;32m   2476\u001b[0m             return self._engine.get_value(s, k,\n\u001b[0;32m-> 2477\u001b[0;31m                                           tz=getattr(series.dtype, 'tz', None))\n\u001b[0m\u001b[1;32m   2478\u001b[0m         \u001b[0;32mexcept\u001b[0m \u001b[0mKeyError\u001b[0m \u001b[0;32mas\u001b[0m \u001b[0me1\u001b[0m\u001b[0;34m:\u001b[0m\u001b[0;34m\u001b[0m\u001b[0m\n\u001b[1;32m   2479\u001b[0m             \u001b[0;32mif\u001b[0m \u001b[0mlen\u001b[0m\u001b[0;34m(\u001b[0m\u001b[0mself\u001b[0m\u001b[0;34m)\u001b[0m \u001b[0;34m>\u001b[0m \u001b[0;36m0\u001b[0m \u001b[0;32mand\u001b[0m \u001b[0mself\u001b[0m\u001b[0;34m.\u001b[0m\u001b[0minferred_type\u001b[0m \u001b[0;32min\u001b[0m \u001b[0;34m[\u001b[0m\u001b[0;34m'integer'\u001b[0m\u001b[0;34m,\u001b[0m \u001b[0;34m'boolean'\u001b[0m\u001b[0;34m]\u001b[0m\u001b[0;34m:\u001b[0m\u001b[0;34m\u001b[0m\u001b[0m\n",
      "\u001b[0;32mpandas/_libs/index.pyx\u001b[0m in \u001b[0;36mpandas._libs.index.IndexEngine.get_value (pandas/_libs/index.c:4404)\u001b[0;34m()\u001b[0m\n",
      "\u001b[0;32mpandas/_libs/index.pyx\u001b[0m in \u001b[0;36mpandas._libs.index.IndexEngine.get_value (pandas/_libs/index.c:4087)\u001b[0;34m()\u001b[0m\n",
      "\u001b[0;32mpandas/_libs/index.pyx\u001b[0m in \u001b[0;36mpandas._libs.index.IndexEngine.get_loc (pandas/_libs/index.c:5126)\u001b[0;34m()\u001b[0m\n",
      "\u001b[0;32mpandas/_libs/hashtable_class_helper.pxi\u001b[0m in \u001b[0;36mpandas._libs.hashtable.Int64HashTable.get_item (pandas/_libs/hashtable.c:14031)\u001b[0;34m()\u001b[0m\n",
      "\u001b[0;32mpandas/_libs/hashtable_class_helper.pxi\u001b[0m in \u001b[0;36mpandas._libs.hashtable.Int64HashTable.get_item (pandas/_libs/hashtable.c:13975)\u001b[0;34m()\u001b[0m\n",
      "\u001b[0;31mKeyError\u001b[0m: 6"
     ]
    }
   ],
   "source": [
    "y[6], X[6]"
   ]
  },
  {
   "cell_type": "code",
   "execution_count": 85,
   "metadata": {},
   "outputs": [],
   "source": [
    "K = StratifiedKFold(n_splits=3)"
   ]
  },
  {
   "cell_type": "code",
   "execution_count": 86,
   "metadata": {},
   "outputs": [
    {
     "data": {
      "text/plain": [
       "(array([     0,      1,      2, ..., 158025, 158026, 158027]),\n",
       " array([157399, 157401, 157402, ..., 236597, 236598, 236599]))"
      ]
     },
     "execution_count": 86,
     "metadata": {},
     "output_type": "execute_result"
    }
   ],
   "source": [
    "for train_index, test_index in K.split(X, y):\n",
    "    pass\n",
    "train_index, test_index"
   ]
  },
  {
   "cell_type": "code",
   "execution_count": 102,
   "metadata": {},
   "outputs": [],
   "source": [
    "df = pd.read_csv('/home/rafael/Dataframe/pan13/gender-age_en-es_training_df.csv')"
   ]
  },
  {
   "cell_type": "code",
   "execution_count": 105,
   "metadata": {},
   "outputs": [],
   "source": [
    "df = df[df.lang == 'en']"
   ]
  },
  {
   "cell_type": "code",
   "execution_count": 106,
   "metadata": {},
   "outputs": [
    {
     "data": {
      "text/html": [
       "<div>\n",
       "<style>\n",
       "    .dataframe thead tr:only-child th {\n",
       "        text-align: right;\n",
       "    }\n",
       "\n",
       "    .dataframe thead th {\n",
       "        text-align: left;\n",
       "    }\n",
       "\n",
       "    .dataframe tbody tr th {\n",
       "        vertical-align: top;\n",
       "    }\n",
       "</style>\n",
       "<table border=\"1\" class=\"dataframe\">\n",
       "  <thead>\n",
       "    <tr style=\"text-align: right;\">\n",
       "      <th></th>\n",
       "      <th>Unnamed: 0</th>\n",
       "      <th>age</th>\n",
       "      <th>author_id</th>\n",
       "      <th>gender</th>\n",
       "      <th>lang</th>\n",
       "      <th>text</th>\n",
       "    </tr>\n",
       "  </thead>\n",
       "  <tbody>\n",
       "    <tr>\n",
       "      <th>0</th>\n",
       "      <td>215df43ae1105e88703ea4688c097932</td>\n",
       "      <td>30s</td>\n",
       "      <td>215df43ae1105e88703ea4688c097932</td>\n",
       "      <td>female</td>\n",
       "      <td>en</td>\n",
       "      <td>\\n\\n\\t\\t\\tThe loops are used to protected the ...</td>\n",
       "    </tr>\n",
       "    <tr>\n",
       "      <th>1</th>\n",
       "      <td>45d4b8cc5eed2372fb5608afcd04fdd2</td>\n",
       "      <td>30s</td>\n",
       "      <td>45d4b8cc5eed2372fb5608afcd04fdd2</td>\n",
       "      <td>female</td>\n",
       "      <td>en</td>\n",
       "      <td>\\n\\n\\t\\t\\tDo you know about the benefits of a ...</td>\n",
       "    </tr>\n",
       "    <tr>\n",
       "      <th>2</th>\n",
       "      <td>66a995105f86e4fe36c2f21ae2b310cd</td>\n",
       "      <td>30s</td>\n",
       "      <td>66a995105f86e4fe36c2f21ae2b310cd</td>\n",
       "      <td>male</td>\n",
       "      <td>en</td>\n",
       "      <td>\\n\\n\\t\\t\\tA true friend walks in when d rest o...</td>\n",
       "    </tr>\n",
       "    <tr>\n",
       "      <th>3</th>\n",
       "      <td>84c0867facfba4f6a786643608966d74</td>\n",
       "      <td>20s</td>\n",
       "      <td>84c0867facfba4f6a786643608966d74</td>\n",
       "      <td>male</td>\n",
       "      <td>en</td>\n",
       "      <td>\\n\\n\\t\\t\\tAnd water, water, water, the purest ...</td>\n",
       "    </tr>\n",
       "    <tr>\n",
       "      <th>4</th>\n",
       "      <td>6e0982c346b4a7e72247a396e3a4fe3c</td>\n",
       "      <td>30s</td>\n",
       "      <td>6e0982c346b4a7e72247a396e3a4fe3c</td>\n",
       "      <td>female</td>\n",
       "      <td>en</td>\n",
       "      <td>\\n\\n\\t\\t\\t What's using Philippine/Filipino Tr...</td>\n",
       "    </tr>\n",
       "    <tr>\n",
       "      <th>7</th>\n",
       "      <td>1061e2e7d796ae2db499f8efb52e13b1</td>\n",
       "      <td>10s</td>\n",
       "      <td>1061e2e7d796ae2db499f8efb52e13b1</td>\n",
       "      <td>female</td>\n",
       "      <td>en</td>\n",
       "      <td>\\n\\n\\t\\t\\tThat being said, you canyou'll find ...</td>\n",
       "    </tr>\n",
       "    <tr>\n",
       "      <th>8</th>\n",
       "      <td>9a9a3905933c5573ba6ffde0bf8610a0</td>\n",
       "      <td>20s</td>\n",
       "      <td>9a9a3905933c5573ba6ffde0bf8610a0</td>\n",
       "      <td>female</td>\n",
       "      <td>en</td>\n",
       "      <td>\\n\\n\\t\\t\\tHumans have been making use of the E...</td>\n",
       "    </tr>\n",
       "    <tr>\n",
       "      <th>9</th>\n",
       "      <td>8acf7799c6ab273df8c08dd0969c53e</td>\n",
       "      <td>30s</td>\n",
       "      <td>8acf7799c6ab273df8c08dd0969c53e</td>\n",
       "      <td>female</td>\n",
       "      <td>en</td>\n",
       "      <td>\\n\\n\\t\\t\\tYou can't say everyone has got the o...</td>\n",
       "    </tr>\n",
       "    <tr>\n",
       "      <th>10</th>\n",
       "      <td>3c76246dba7437e547709abb35d6e045</td>\n",
       "      <td>30s</td>\n",
       "      <td>3c76246dba7437e547709abb35d6e045</td>\n",
       "      <td>male</td>\n",
       "      <td>en</td>\n",
       "      <td>\\n\\n\\t\\t\\t In the event you're significant abo...</td>\n",
       "    </tr>\n",
       "    <tr>\n",
       "      <th>14</th>\n",
       "      <td>d13bced2444188c70302f9fd2f9c59f</td>\n",
       "      <td>30s</td>\n",
       "      <td>d13bced2444188c70302f9fd2f9c59f</td>\n",
       "      <td>female</td>\n",
       "      <td>en</td>\n",
       "      <td>\\n\\n\\t\\t\\tYou  are actually  projecting a  vac...</td>\n",
       "    </tr>\n",
       "  </tbody>\n",
       "</table>\n",
       "</div>"
      ],
      "text/plain": [
       "                          Unnamed: 0  age                         author_id  \\\n",
       "0   215df43ae1105e88703ea4688c097932  30s  215df43ae1105e88703ea4688c097932   \n",
       "1   45d4b8cc5eed2372fb5608afcd04fdd2  30s  45d4b8cc5eed2372fb5608afcd04fdd2   \n",
       "2   66a995105f86e4fe36c2f21ae2b310cd  30s  66a995105f86e4fe36c2f21ae2b310cd   \n",
       "3   84c0867facfba4f6a786643608966d74  20s  84c0867facfba4f6a786643608966d74   \n",
       "4   6e0982c346b4a7e72247a396e3a4fe3c  30s  6e0982c346b4a7e72247a396e3a4fe3c   \n",
       "7   1061e2e7d796ae2db499f8efb52e13b1  10s  1061e2e7d796ae2db499f8efb52e13b1   \n",
       "8   9a9a3905933c5573ba6ffde0bf8610a0  20s  9a9a3905933c5573ba6ffde0bf8610a0   \n",
       "9    8acf7799c6ab273df8c08dd0969c53e  30s   8acf7799c6ab273df8c08dd0969c53e   \n",
       "10  3c76246dba7437e547709abb35d6e045  30s  3c76246dba7437e547709abb35d6e045   \n",
       "14   d13bced2444188c70302f9fd2f9c59f  30s   d13bced2444188c70302f9fd2f9c59f   \n",
       "\n",
       "    gender lang                                               text  \n",
       "0   female   en  \\n\\n\\t\\t\\tThe loops are used to protected the ...  \n",
       "1   female   en  \\n\\n\\t\\t\\tDo you know about the benefits of a ...  \n",
       "2     male   en  \\n\\n\\t\\t\\tA true friend walks in when d rest o...  \n",
       "3     male   en  \\n\\n\\t\\t\\tAnd water, water, water, the purest ...  \n",
       "4   female   en  \\n\\n\\t\\t\\t What's using Philippine/Filipino Tr...  \n",
       "7   female   en  \\n\\n\\t\\t\\tThat being said, you canyou'll find ...  \n",
       "8   female   en  \\n\\n\\t\\t\\tHumans have been making use of the E...  \n",
       "9   female   en  \\n\\n\\t\\t\\tYou can't say everyone has got the o...  \n",
       "10    male   en  \\n\\n\\t\\t\\t In the event you're significant abo...  \n",
       "14  female   en  \\n\\n\\t\\t\\tYou  are actually  projecting a  vac...  "
      ]
     },
     "execution_count": 106,
     "metadata": {},
     "output_type": "execute_result"
    }
   ],
   "source": [
    "df.head(10)"
   ]
  },
  {
   "cell_type": "code",
   "execution_count": 111,
   "metadata": {},
   "outputs": [
    {
     "data": {
      "text/plain": [
       "('male',\n",
       " '\\n\\n\\t\\t\\t In the event you\\'re significant about wanting to start a organization, the very first issue you wish to do is take the time to know what seriously tends to make you tick. Wherever do you obtain your drive? What will get you inside a \"zone?\"\\n<br />;\\xa0\\n<br />;On the other hand, there\\'s lots much more to figuring out The best organization thought that will make you more money and give you more independence to love extra achievements in your own lifestyle.\\n<br />;\\xa0\\n<br />;And accomplishment to you can be distinct than accomplishment to a person else. It may not be all about cash in any respect. It might not be about locating one thing you might be totally enthusiastic about. It might not be about acquiring a \"cool\" business enterprise -- the newest fad or perhaps a distinctive area of interest.\\n<br />;\\xa0\\n<br />;Success is how you define it.\\n<br />;\\xa0\\n<br />;Locating the right thought to carry you that success usually requires a willingness being affected person, excellent timing, plus a good deal of analysis.\\n<br />;\\xa0\\n<br />;And there\\'s very little mistaken with getting your time, becoming careful seeking to figure out which smaller organization tips are finest.\\n<br />;\\xa0\\n<br />;In case you rush this process, you happen to be certain to return up having a organization that won\\'t excite you at all.\\n<br />;\\xa0\\n<br />;You may be bored.\\n<br />;\\xa0\\n<br />;You will not reach objectives and it can grow to be far more like a job ... possibly even more difficult!\\n<br />;\\xa0\\n<br />;You can feel like you\\'ll working for someone else. (You do not want that yet again, do you<img class=\"smiley\" src=\"http://www.pan.net/smilies/unsure.gif\" alt=\":)\" />;\\n<br />;\\xa0\\n<br />;1St, Determine That Which You Genuinely Want\\n<br />;\\xa0\\n<br />;Beginning away, you actually should power on your own to relax. I understand what it is really like getting really, very sad at a work. And that I can tell you from initially-hand practical experience that strolling apart from a properly-paying work and leaping into your own personal organization is stressful.\\n<br />;\\xa0\\n<br />;But when you thoroughly approach your \"escape,\" it will make it that significantly greater!\\n<br />;\\xa0\\n<br />;Established Your Shorter-Name Goals\\n<br />;\\xa0\\n<br />;Perhaps you desire to create a ton of money and generate approximately within a BMW.\\n<br />;\\xa0\\n<br />;Or probably you simply want the freedom to appreciate your spouse and children or close friends. Or probably it really is just a make any difference of becoming in control of your daily life -- staying capable to try and do what ever you desire, every time you desire.\\n<br />;\\xa0\\n<br />;What ever your long-time period targets are, very first you may have to concentrate around the shorter phrase ambitions before you are able to start off to see that \"huge image.\"\\n<br />;\\xa0\\n<br />;It can be up to you.\\n<br />;\\xa0\\n<br />;But fully grasp which the kind of company you get started will perform a roll in no matter if or not you meet up with your targets -- each small and very long-term.\\n<br />;\\xa0\\n<br />;If you\\'re attempting to startup a component-time endeavor while performing complete-time for somebody else, you\\'re moving to own to collection everyday objectives to strive and squeeze in a few hrs of get the job done daily, usually ahead of and immediately after function! (I employed to obtain up at 4:30 inside morning, head over to my complete-time task at 8:30, occur house at 5 or 6 and get right back again to do the job on my new enterprise ... And I beloved it!)\\n<br />;\\xa0\\n<br />;But if it is really a small organization strategy you came up with within the trip household and it isn\\'t going to truly \"drive\" you, it\\'ll make reaching your quick term objectives -- frequently the very difficult aspect -- a heck of a good deal a lot more tough.\\n<br />;\\xa0\\n<br />;What are Your Extended-Term Options?\\n<br />;\\xa0\\n<br />;That big photo includes, in excess of anything at all, something you\\'ll be able to see by yourself carrying out every single day. A thing that -- even on weekends -- you adore to try and do.\\n<br />;\\xa0\\n<br />;And even nevertheless it can be a thing you adore to perform, make sure it will feed your extended-name plan. Therefore you won\\'t know that right up until you realize what your long term prepare basically is!\\n<br />;\\xa0\\n<br />;As an illustration, but if your plan is in fact for making a great deal of money and retire at a young age, you\\'ll certainly should check out smaller business enterprise suggestions that are hugely rewarding.\\n<br />;\\xa0\\n<br />;This is able to include largely enterprise-to-business models. There\\'s normally much more profit promoting to organizations (a product or service or support) until you allow it to be huge from the customer marketplace.\\n<br />;\\xa0\\n<br />;Why would the enterprise-to-organization current market be additional worthwhile? Mainly because a organization could be far more prepared to invest in a item or services (that may even be described as a write-off) versus the patron marketplace which is more \"luxury\" driven. Meaning, customers base a whole lot of their acquiring selections on want rather than desires.\\n<br />;\\xa0\\n<br />;It is also a fiscal challenge.\\n<br />;\\xa0\\n<br />;A greater organization can pay out a $300 invoice without pondering about it whereas a shopper receiving a $300 bill may perhaps sweat just a little additional.\\n<br />;\\xa0\\n<br />;That is just an instance of understanding your long-time period objectives so you may seem closer at a finite variety of business strategies to get you closer to the place you desire to be.\\n<br />;\\xa0\\n<br />;And should you go forward and hang your \"open for organization\" sign after which it realize, \"Oh, I won\\'t be able to make that very much income accomplishing this!\", you are going to only be getting 1 phase ahead and two methods rear.\\n<br />;\\xa0\\n<br />;Grab a Pad ... Strategies Will Come and Go\\n<br />;\\xa0\\n<br />;Due to the fact -- like all business owners -- you happen to be a thinker, you have usually obtained strategies popping into your head. Probably more than you\\'ll be able to deal with (the mind only has so much room, appropriate<img class=\"smiley\" src=\"http://www.pan.net/smilies/unsure.gif\" alt=\":)\" />;.\\n<br />;\\xa0\\n<br />;That\\'s why you must at all times keep a notebook by your side.\\n<br />;\\xa0\\n<br />;Certain, some of the very best ideas get created on a cocktail napkin. But you\\'re far better away trying to give these concepts additional permanence. And possessing a notebook dedicated on your tiny organization strategies will give you a developing and buildable \"diary\" to utilize after you\\'re very good and ready to go for it!\\n<br />;\\xa0\\n<br />;And when you commence placing your tips in crafting, you will end up obtaining into your habit of employing your notebook much more and more. It is like nearly anything else that will take demo.\\n<br />;\\xa0\\n<br />;Slightly more you do it, the superior you receive at finding the best tiny business strategies. And each strategy will assist you grow much more specific or \"area of interest\" strategies.\\n<br />;\\xa0\\n<br />;Develop into a Private Investigator!\\n<br />;\\xa0\\n<br />;Everything you need to do is actually study how to research. You have to drill down -- and search deep -- to find out what enterprise really could do the job greatest for the accomplishment.\\n<br />;\\xa0\\n<br />;Not simply do you might have to understand who you will be and what\\'s likely to drive your character one of the most, but you also ought to think about what sells.\\n<br />;\\xa0\\n<br />;What style of business can be worthwhile?\\n<br />;\\xa0\\n<br />;Much too many individuals make the mistake of investigating only 1 facet of beginning a smaller enterprise. In case you adore parakeets and you\\'re obsessed with them, it doesn\\'t necessarily mean you are going to be able to open up a retailer inside your city devoid of knowing if anyone else likes them!\\n<br />;\\xa0\\n<br />;Like a facet notice, starting an internet business will allow you a greater chance to build a business round anything you\\'re passionate about. If it is really parakeets you love, you are going to discover extra people today around the internet with the identical enthusiasm than you\\'ll in your own personal backyard. For some excellent details about obtaining your enthusiasm for the web, mouse click right here\\n<br />;\\xa0\\n<br />;You investigation should involve taking a look at what other businesses are carrying out (effectively and never so effectively) in your city or city.\\n<br />;\\xa0\\n<br />;Take a look at tiny businesses and also what the \"major men\" are performing.\\n<br />;\\xa0\\n<br />;Probably you might build a more compact organization having a particular contact which the \"huge guys\" are normally lacking out on (no matter how hard they look at.)\\n<br />;\\xa0\\n<br />;Figure out more about what helps make you tick ...\\n<br />;\\xa0\\n<br />;What type of hobbies do you might have, if any?\\n<br />;\\xa0\\n<br />;What sort of magazines do you take pleasure in?\\n<br />;\\xa0\\n<br />;What do you like to do most inside your \"cost-free\" time?\\n<br />;\\xa0\\n<br />;What was the very best work you at any time held? Even if it is really a single you received after you have been a child, you could possibly discover a enterprise in something you know and enjoy -- but usually do not even notice it however!\\n<br />;\\xa0\\n<br />;Enterprise Ideas Are In All Places\\n<br />;\\xa0\\n<br />;Begin to take into consideration needs inside your city or city. Is there a thing missing? Is there a will need or possibly a product or some sort of service people would use which they \"want?\"\\n<br />;\\xa0\\n<br />;What\\'s the vast majority age population in your city or town? Is it largely seniors? (a huge current market simply because they may be extra energetic and residing more time than previously.) Or is your local community produced up of younger families?\\n<br />;\\xa0\\n<br />;Take a look at the regional sections within your daily news. Examine the Way of living and Arts part. (I often come across articles about neighborhood enterprise folks who have commenced companies.)\\n<br />;\\xa0\\n<br />;Take a look at regional and point out organizations. Examine shopper tendencies and what men and women \"want.\"\\n<br />;\\xa0\\n<br />;Is there some thing other companies inside your spot require? Will not be afraid to go all-around and inquire!\\n<br />;\\xa0\\n<br />;Take into consideration concerns we all have in the planet nowadays.\\n<br />;\\xa0\\n<br />;You will find a great number of opportunities around, waiting for like you to move up and get commenced with a brand new business!\\n<br />;\\xa0\\n<br />;Never be afraid to question!\\n<br />;\\xa0\\n<br />;That is where your mates, family members and neighbors come in. Inquire them to provide you their variety-1 have to have. A solution or company which is \"hard-to-find.\" A issue about what\\'s lacking from their lives.\\n<br />;\\xa0\\n<br />;How several instances have you ever seemed for one thing -- a merchandise or company -- and needed to vacation a long distance so you can get it?\\n<br />;\\xa0\\n<br />;Answering concerns will give you lots to contemplate and some very good content to your notebook.\\n<br />;\\xa0\\n<br />;And if you\\'re interested within the company-to-business enterprise current market, you can continually put jointly a survey and mail it out to neighborhood enterprises. Give them an incentive (a low-expense, higher importance reward) and determine what they genuinely have to have that can help them boost their business.\\n<br />;\\xa0\\n<br />;You could locate that all of the native organizations within your spot will need someone to deal with native deliveries. Or someone to help them type or use their computer system a lot more successfully..\\n<br />;\\xa0\\n<br />;Just don\\'t forget, starting a tiny business enterprise is a process and it will take time. Better preparing and research you need to do up front, the much better likelihood you may must good results and employ a very little little bit of entertaining, too.\\n\\t\\t\\n')"
      ]
     },
     "execution_count": 111,
     "metadata": {},
     "output_type": "execute_result"
    }
   ],
   "source": [
    "df['gender'].values[8], df['text'].values[8]\n"
   ]
  },
  {
   "cell_type": "code",
   "execution_count": null,
   "metadata": {},
   "outputs": [],
   "source": []
  }
 ],
 "metadata": {
  "kernelspec": {
   "display_name": "Python 3",
   "language": "python",
   "name": "python3"
  },
  "language_info": {
   "codemirror_mode": {
    "name": "ipython",
    "version": 3
   },
   "file_extension": ".py",
   "mimetype": "text/x-python",
   "name": "python",
   "nbconvert_exporter": "python",
   "pygments_lexer": "ipython3",
   "version": "3.5.2"
  }
 },
 "nbformat": 4,
 "nbformat_minor": 2
}
