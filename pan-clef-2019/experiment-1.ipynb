{
 "cells": [
  {
   "cell_type": "code",
   "execution_count": 46,
   "metadata": {},
   "outputs": [
    {
     "name": "stdout",
     "output_type": "stream",
     "text": [
      "[0, 0, 0, 0, 0, 0, 0, 0, 0, 0] [0, 0, 1, 0, 0, 0, 0, 0, 0, 0] [0, 0, 0, 0, 0, 0, 0, 0, 0, 1]\n"
     ]
    },
    {
     "data": {
      "text/plain": [
       "[0, 0, 1, 0, 0, 0, 0, 0, 0, 0, 0, 0, 0, 0, 0, 0, 0, 0, 0, 1]"
      ]
     },
     "execution_count": 46,
     "metadata": {},
     "output_type": "execute_result"
    }
   ],
   "source": [
    "import numpy as np\n",
    "x = [0]*10\n",
    "x1 = x.copy()\n",
    "x2 = x.copy()\n",
    "x1[2] = 1\n",
    "x2[9] = 1\n",
    "print(x, x1, x2)\n",
    "\n",
    "x1+x2"
   ]
  },
  {
   "cell_type": "code",
   "execution_count": 1,
   "metadata": {},
   "outputs": [
    {
     "data": {
      "text/plain": [
       "['ola isso é um teste', 'isso não é um teste']"
      ]
     },
     "execution_count": 1,
     "metadata": {},
     "output_type": "execute_result"
    }
   ],
   "source": [
    "text = ['ola isso é um teste','isso não é um teste']\n",
    "\n",
    "[x for x in text]"
   ]
  },
  {
   "cell_type": "code",
   "execution_count": 4,
   "metadata": {},
   "outputs": [
    {
     "data": {
      "text/plain": [
       "['ola isso é um teste', 'isso não é um teste']"
      ]
     },
     "execution_count": 4,
     "metadata": {},
     "output_type": "execute_result"
    }
   ],
   "source": [
    "[text[i] for i in range(0, len(text))]"
   ]
  },
  {
   "cell_type": "code",
   "execution_count": 31,
   "metadata": {},
   "outputs": [
    {
     "data": {
      "text/plain": [
       "1"
      ]
     },
     "execution_count": 31,
     "metadata": {},
     "output_type": "execute_result"
    }
   ],
   "source": [
    "\"abc\".count(\"b\")"
   ]
  },
  {
   "cell_type": "code",
   "execution_count": 33,
   "metadata": {},
   "outputs": [
    {
     "data": {
      "text/plain": [
       "['ola',\n",
       " 'la ',\n",
       " 'a i',\n",
       " ' is',\n",
       " 'iss',\n",
       " 'sso',\n",
       " 'so ',\n",
       " 'o é',\n",
       " ' é ',\n",
       " 'é u',\n",
       " ' um',\n",
       " 'um ',\n",
       " 'm t',\n",
       " ' te',\n",
       " 'tes',\n",
       " 'est',\n",
       " 'ste',\n",
       " 'te',\n",
       " 'e',\n",
       " 'iss',\n",
       " 'sso',\n",
       " 'so ',\n",
       " 'o n',\n",
       " ' nã',\n",
       " 'não',\n",
       " 'ão ',\n",
       " 'o é',\n",
       " ' é ',\n",
       " 'é u',\n",
       " ' um',\n",
       " 'um ',\n",
       " 'm t',\n",
       " ' te',\n",
       " 'tes',\n",
       " 'est',\n",
       " 'ste',\n",
       " 'te',\n",
       " 'e']"
      ]
     },
     "execution_count": 33,
     "metadata": {},
     "output_type": "execute_result"
    }
   ],
   "source": [
    "length_grams = 3\n",
    "def ngram(t):\n",
    "    if t.count(\" \") > 2: return \" \"\n",
    "    return t\n",
    "    \n",
    "[ngram(text[i][j:j+length_grams]) for i in range(0, len(text)) for j in range(0,len(text[i]))]"
   ]
  },
  {
   "cell_type": "code",
   "execution_count": null,
   "metadata": {},
   "outputs": [],
   "source": []
  }
 ],
 "metadata": {
  "kernelspec": {
   "display_name": "Python 3",
   "language": "python",
   "name": "python3"
  },
  "language_info": {
   "codemirror_mode": {
    "name": "ipython",
    "version": 3
   },
   "file_extension": ".py",
   "mimetype": "text/x-python",
   "name": "python",
   "nbconvert_exporter": "python",
   "pygments_lexer": "ipython3",
   "version": "3.5.2"
  }
 },
 "nbformat": 4,
 "nbformat_minor": 2
}
