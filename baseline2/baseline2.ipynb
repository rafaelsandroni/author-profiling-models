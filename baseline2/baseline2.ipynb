{
 "cells": [
  {
   "cell_type": "code",
   "execution_count": 1,
   "metadata": {},
   "outputs": [
    {
     "name": "stderr",
     "output_type": "stream",
     "text": [
      "Using TensorFlow backend.\n"
     ]
    }
   ],
   "source": [
    "import keras"
   ]
  },
  {
   "cell_type": "code",
   "execution_count": 2,
   "metadata": {},
   "outputs": [],
   "source": [
    "from Models.functions.plot import plot_history, full_multiclass_report"
   ]
  },
  {
   "cell_type": "code",
   "execution_count": 3,
   "metadata": {},
   "outputs": [],
   "source": [
    "from keras.layers import Activation, Input, Dense, Flatten, Dropout, Embedding\n",
    "from keras.layers.convolutional import Conv1D, MaxPooling1D\n",
    "from keras.layers.merge import concatenate\n",
    "from keras import regularizers\n",
    "from keras.models import Model, Sequential\n",
    "from Models.functions.preprocessing import clean, labelEncoder\n",
    "from sklearn import preprocessing\n",
    "from sklearn.metrics import accuracy_score, f1_score, precision_recall_fscore_support\n",
    "import numpy as np\n",
    "from keras.callbacks import ModelCheckpoint, ReduceLROnPlateau, EarlyStopping\n",
    "from keras.wrappers.scikit_learn import KerasClassifier\n",
    "from sklearn.pipeline import Pipeline\n",
    "import itertools\n",
    "import matplotlib.pyplot as plt\n",
    "\n",
    "from sklearn.model_selection import GridSearchCV\n",
    "from keras.wrappers.scikit_learn import KerasClassifier\n",
    "\n",
    "import pandas as pd\n",
    "result = pd.DataFrame()"
   ]
  },
  {
   "cell_type": "code",
   "execution_count": 4,
   "metadata": {},
   "outputs": [],
   "source": [
    "def create_model(filters = [100], kernel_size = [50], strides = [100], \n",
    "                 dropout_rate = 0.5, pool_size = [5], dense_units = 100, max_len = 1000):\n",
    "\n",
    "    model = Sequential()\n",
    "\n",
    "    # conv 1\n",
    "    model.add(Conv1D(filters = filters[0], \n",
    "                     kernel_size = kernel_size[0],\n",
    "                     strides = strides[0], \n",
    "                     activation = 'relu', \n",
    "                     input_shape = (max_len, 1) ))\n",
    "\n",
    "    # pooling layer 1\n",
    "    for i in range(len(pool_size)):\n",
    "        model.add(MaxPooling1D(pool_size = pool_size[i], strides = 1))\n",
    "        model.add(Activation('relu'))\n",
    "    \n",
    "    #model.add(Activation('relu'))\n",
    "    \n",
    "    model.add(Flatten())\n",
    "    \n",
    "    if dropout_rate is not None:\n",
    "        model.add(Dropout(dropout_rate))\n",
    "        \n",
    "    model.add(Dense(units = dense_units, activation = 'relu'))\n",
    "    model.add(Dense(units = 3, activation = 'softmax'))\n",
    "\n",
    "    model.compile(optimizer = 'adadelta', loss='sparse_categorical_crossentropy', metrics = ['accuracy'])\n",
    "    return model"
   ]
  },
  {
   "cell_type": "code",
   "execution_count": 5,
   "metadata": {},
   "outputs": [],
   "source": [
    "\n",
    "\n",
    "def get_results(model, y_espected, y_predicted):\n",
    "\n",
    "    config = model.get_config()\n",
    "\n",
    "    row = {}\n",
    "\n",
    "    conv_layers = np.sum([1 if i['class_name'] == \"Conv1D\" else 0 for i in config])\n",
    "    pooling_layers = np.sum([1 if i['class_name'] == \"MaxPooling1D\" else 0 for i in config])\n",
    "\n",
    "    row.update({ '_accuracy': accuracy_score(y_espected, y_predicted) })\n",
    "    row.update({ '_f1-score': f1_score(y_espected, y_predicted,average='weighted')})\n",
    "    row.update({ 'conv_layers': conv_layers })\n",
    "    row.update({ 'pooling_layers': pooling_layers })\n",
    "\n",
    "    _, _, fscore, support = precision_recall_fscore_support(y_espected, y_predicted)\n",
    "\n",
    "    [row.update({'_fscore_class_'+str(i[0]): i[1]}) for i in enumerate(fscore)]\n",
    "    [row.update({'_support_class_'+str(i[0]): i[1]}) for i in enumerate(support)]\n",
    "\n",
    "    idx = 1\n",
    "    for i in config:\n",
    "        if i['class_name'] == \"Conv1D\":\n",
    "            j = str(idx)\n",
    "            row.update({\n",
    "                'filters_'+j: i['config']['filters'],\n",
    "                'strides_'+j: i['config']['strides'],\n",
    "                'kernel_size_'+j: i['config']['kernel_size'],\n",
    "                'activation_'+j: i['config']['activation']\n",
    "            })\n",
    "        pass\n",
    "    return row"
   ]
  },
  {
   "cell_type": "code",
   "execution_count": null,
   "metadata": {},
   "outputs": [],
   "source": []
  },
  {
   "cell_type": "code",
   "execution_count": 6,
   "metadata": {},
   "outputs": [
    {
     "data": {
      "text/plain": [
       "(2081, 283226)"
      ]
     },
     "execution_count": 6,
     "metadata": {},
     "output_type": "execute_result"
    }
   ],
   "source": [
    "from sklearn.feature_extraction.text import TfidfVectorizer\n",
    "from Models.functions.datasets import loadTrainTest\n",
    "\n",
    "X, _, y, _ = loadTrainTest(\"gender\", \"brblogset\", \"/home/rafael/GDrive/Data/Dataframe/\")\n",
    "\n",
    "y, n, classes_names = labelEncoder(y)\n",
    "\n",
    "vect = TfidfVectorizer(max_features=None)\n",
    "\n",
    "X_tfidf = vect.fit_transform(X).toarray()\n",
    "\n",
    "X_tfidf.shape"
   ]
  },
  {
   "cell_type": "code",
   "execution_count": 7,
   "metadata": {},
   "outputs": [
    {
     "name": "stdout",
     "output_type": "stream",
     "text": [
      "599293 5537.368572801538 2423.0 2423\n"
     ]
    }
   ],
   "source": [
    "max_length = np.max([len(x.split(\" \")) for x in X])\n",
    "mean_length = np.mean([len(x.split(\" \")) for x in X])\n",
    "mediam_length = np.median([len(x.split(\" \")) for x in X])\n",
    "\n",
    "print(max_length, mean_length, mediam_length, int(mediam_length))"
   ]
  },
  {
   "cell_type": "markdown",
   "metadata": {},
   "source": [
    "### Normalizer"
   ]
  },
  {
   "cell_type": "code",
   "execution_count": 8,
   "metadata": {},
   "outputs": [
    {
     "data": {
      "text/plain": [
       "(Counter({0: 840, 1: 1241}), Counter({0: 840, 1: 1241}))"
      ]
     },
     "execution_count": 8,
     "metadata": {},
     "output_type": "execute_result"
    }
   ],
   "source": [
    "from imblearn.over_sampling import SMOTE, ADASYN\n",
    "from sklearn.preprocessing import MinMaxScaler, StandardScaler\n",
    "import collections, numpy\n",
    "\n",
    "# Synthetic Minority Oversampling Technique (SMOTE)\n",
    "def oversampling(X, y):\n",
    "    #X_resampled, y_resampled = SMOTE().fit_resample(X, y)\n",
    "    # return X_resampled, y_resampled\n",
    "    return X, y\n",
    "\n",
    "X_resampled, y_resampled = oversampling(X_tfidf, y)\n",
    "\n",
    "collections.Counter(y), collections.Counter(y_resampled)"
   ]
  },
  {
   "cell_type": "markdown",
   "metadata": {},
   "source": [
    "### Split train and test"
   ]
  },
  {
   "cell_type": "code",
   "execution_count": 9,
   "metadata": {},
   "outputs": [
    {
     "data": {
      "text/plain": [
       "((417, 283226, 1), (283226, 1))"
      ]
     },
     "execution_count": 9,
     "metadata": {},
     "output_type": "execute_result"
    }
   ],
   "source": [
    "from sklearn.model_selection import train_test_split\n",
    "from keras.utils import to_categorical\n",
    "\n",
    "X_train, X_test, y_train, y_test = train_test_split(X_resampled, y_resampled, test_size = 0.2)\n",
    "\n",
    "X_train = np.reshape(X_train, (X_train.shape[0], X_train.shape[1], 1))\n",
    "X_test = np.reshape(X_test, (X_test.shape[0], X_test.shape[1], 1))\n",
    "\n",
    "#y_train = to_categorical(y_train, 2)\n",
    "#y_test = to_categorical(y_test, 2)\n",
    "\n",
    "X_test.shape, X_train[1].shape"
   ]
  },
  {
   "cell_type": "code",
   "execution_count": 10,
   "metadata": {},
   "outputs": [
    {
     "data": {
      "text/plain": [
       "<matplotlib.collections.PathCollection at 0x7fca8994d860>"
      ]
     },
     "execution_count": 10,
     "metadata": {},
     "output_type": "execute_result"
    },
    {
     "data": {
      "image/png": "[encoded data removed]",
      "text/plain": [
       "<matplotlib.figure.Figure at 0x7fca8b47da20>"
      ]
     },
     "metadata": {},
     "output_type": "display_data"
    }
   ],
   "source": [
    "\n",
    "xid, yid = 1, 2\n",
    "plt.scatter(X_train[:,xid], X_train[:,yid],c=y_train)\n",
    "#plt.ylabel(classes_names[0])\n",
    "#plt.ylabel(classes_names[1])"
   ]
  },
  {
   "cell_type": "code",
   "execution_count": null,
   "metadata": {},
   "outputs": [],
   "source": []
  },
  {
   "cell_type": "code",
   "execution_count": null,
   "metadata": {
    "scrolled": false
   },
   "outputs": [
    {
     "name": "stdout",
     "output_type": "stream",
     "text": [
      "Performing grid search...\n"
     ]
    }
   ],
   "source": [
    "from time import time\n",
    "\n",
    "CNN = KerasClassifier(build_fn=create_model, \n",
    "                epochs=1,\n",
    "                max_len=X_train.shape[1],\n",
    "                #batch_size=BATCH_SIZE,\n",
    "                verbose=0,\n",
    "                validation_split=0.1\n",
    "                )\n",
    "\n",
    "params_grid = dict(\n",
    "        filters = [[60]],\n",
    "        kernel_size = [[50]],\n",
    "        strides = [[2],[4],[6],[8]],\n",
    "        dropout_rate = [0.1,0.5,0.6],\n",
    "        pool_size = [[16,2],[16],[8,2],[8]],\n",
    "        epochs = [50, 100]\n",
    "        #batch_size = 100\n",
    ")              \n",
    "\n",
    "grid_search = GridSearchCV(CNN, \n",
    "                           params_grid, \n",
    "                           scoring='accuracy', cv=3, \n",
    "                           return_train_score=True\n",
    "                           )\n",
    "\n",
    "#print('best params', grid_search.best_params_)\n",
    "\n",
    "\n",
    "print(\"Performing grid search...\")    \n",
    "t0 = time()\n",
    "\n",
    "#histories = []\n",
    "grid_results = grid_search.fit(X_train, y_train)\n",
    "\n",
    "print(\"done in %0.2fs and %0.1fmin\" % ((time() - t0), ((time() - t0) / 60) ))\n",
    "print()\n",
    "\n",
    "print(\"Best parameters set:\")\n",
    "best_parameters = grid_search.best_estimator_.get_params()\n",
    "for param_name in sorted(params_grid.keys()):\n",
    "    print(\"\\t%s: %r\" % (param_name, best_parameters[param_name]))\n",
    "    \n",
    "display(pd.DataFrame(grid_search.cv_results_))"
   ]
  },
  {
   "cell_type": "code",
   "execution_count": null,
   "metadata": {
    "scrolled": false
   },
   "outputs": [],
   "source": [
    "params = best_parameters\n",
    "\n",
    "## create the model with the best params found\n",
    "model = create_model(filters=params['filters'],\n",
    "                     kernel_size=params['kernel_size'],\n",
    "                     strides=params['strides'],\n",
    "                     dropout_rate=params['dropout_rate'],\n",
    "                     pool_size=[params['pool_size']]\n",
    "                    )\n",
    "\n",
    "## Then train it and display the results\n",
    "history = model.fit(x_train,\n",
    "                    y_train,\n",
    "                    epochs=params['epochs'],\n",
    "                    validation_split=0.2,\n",
    "                    #batch_size=params['batch_size'],\n",
    "                    verbose = 0,\n",
    "                       callbacks=[\n",
    "                           #ReduceLROnPlateau(monitor='val_loss', factor=0.1, patience=4, min_lr=0.01),\n",
    "                           EarlyStopping(monitor='val_loss', min_delta=0.01, patience=4, verbose=1)\n",
    "                  ])\n",
    "\n",
    "model.summary()\n",
    "\n",
    "directory='/home/rafael/'\n",
    "\n",
    "plot_history(history, directory=directory)\n",
    "\n",
    "full_multiclass_report(model,\n",
    "                       x_test,\n",
    "                       y_test,\n",
    "                       classes=classes_names,\n",
    "                       directory=directory\n",
    "                      )\n",
    "                       #batch_size=32,\n",
    "                       #binary= )\n",
    "        \n",
    "        \n",
    "#result = result\n",
    "# get_results(model, y_test, model.predict_classes(X_test))"
   ]
  },
  {
   "cell_type": "code",
   "execution_count": null,
   "metadata": {},
   "outputs": [],
   "source": [
    "y_pred = model.predict_classes(x_test)\n",
    "accuracy_score(y_test, y_pred)\n",
    "\n",
    "from sklearn.metrics import confusion_matrix\n",
    "confusion_matrix(y_test, y_pred)"
   ]
  },
  {
   "cell_type": "code",
   "execution_count": null,
   "metadata": {},
   "outputs": [],
   "source": []
  },
  {
   "cell_type": "code",
   "execution_count": null,
   "metadata": {},
   "outputs": [],
   "source": []
  }
 ],
 "metadata": {
  "kernelspec": {
   "display_name": "Python 3",
   "language": "python",
   "name": "python3"
  },
  "language_info": {
   "codemirror_mode": {
    "name": "ipython",
    "version": 3
   },
   "file_extension": ".py",
   "mimetype": "text/x-python",
   "name": "python",
   "nbconvert_exporter": "python",
   "pygments_lexer": "ipython3",
   "version": "3.5.2"
  }
 },
 "nbformat": 4,
 "nbformat_minor": 2
}
