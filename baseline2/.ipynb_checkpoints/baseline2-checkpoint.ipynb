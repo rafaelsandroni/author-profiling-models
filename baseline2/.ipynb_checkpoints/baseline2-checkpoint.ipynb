{
 "cells": [
  {
   "cell_type": "code",
   "execution_count": 1,
   "metadata": {},
   "outputs": [
    {
     "name": "stdout",
     "output_type": "stream",
     "text": [
      "0.20.0\n"
     ]
    }
   ],
   "source": [
    "import sklearn\n",
    "print(sklearn.__version__)"
   ]
  },
  {
   "cell_type": "markdown",
   "metadata": {},
   "source": [
    "### baseline2: tfidf + CNN"
   ]
  },
  {
   "cell_type": "code",
   "execution_count": 2,
   "metadata": {
    "collapsed": true
   },
   "outputs": [],
   "source": [
    "from sklearn.metrics import classification_report, confusion_matrix, accuracy_score\n",
    "from sklearn.model_selection import StratifiedKFold\n",
    "from sklearn.pipeline import Pipeline\n",
    "from sklearn.preprocessing import LabelEncoder\n",
    "\n",
    "from sklearn.feature_extraction.text import TfidfVectorizer, CountVectorizer, TfidfTransformer, TfidfVectorizer\n",
    "from sklearn.linear_model import LogisticRegression\n",
    "\n",
    "from time import time\n",
    "\n",
    "import numpy as np\n",
    "import pandas as pd\n",
    "#from functions.models import \n",
    "from functions.datasets import getDatasets\n",
    "from functions.metrics import evaluator\n",
    "from functions.plot import ROC, plot_confusion_matrix"
   ]
  },
  {
   "cell_type": "code",
   "execution_count": null,
   "metadata": {
    "collapsed": true
   },
   "outputs": [],
   "source": []
  },
  {
   "cell_type": "code",
   "execution_count": 2,
   "metadata": {
    "collapsed": true
   },
   "outputs": [],
   "source": [
    "baseline = 'baseline2'"
   ]
  },
  {
   "cell_type": "code",
   "execution_count": 5,
   "metadata": {
    "collapsed": true
   },
   "outputs": [],
   "source": [
    "def labelEncoder(y):\n",
    "    le = LabelEncoder()\n",
    "    le.fit(y)\n",
    "\n",
    "    return (le.transform(y), len(le.classes_), list(le.classes_))"
   ]
  },
  {
   "cell_type": "code",
   "execution_count": 6,
   "metadata": {
    "collapsed": true
   },
   "outputs": [],
   "source": [
    "def clean(text):\n",
    "    space = ' '    \n",
    "    for char in ['\\n','-', '...', '*', '/', '+', '\\\\']:\n",
    "        text = text.replace(char, space)\n",
    "        \n",
    "    text = text.replace(space*2, space)\n",
    "    text = text.replace(space*3, space)\n",
    "    \n",
    "    return text.strip()"
   ]
  },
  {
   "cell_type": "markdown",
   "metadata": {},
   "source": [
    "### Perform classification for each problem / task"
   ]
  },
  {
   "cell_type": "code",
   "execution_count": 7,
   "metadata": {
    "collapsed": true
   },
   "outputs": [],
   "source": [
    "def model(X, y, n_classes, classes_name, params):\n",
    "                \n",
    "    pipeline = Pipeline([       \n",
    "        ('vect', CountVectorizer()),\n",
    "        ('tfidf', TfidfTransformer()),        \n",
    "        ('clf', LogisticRegression(verbose=1)),\n",
    "    ])\n",
    "    \n",
    "    # pipeline.set_params(**params)    \n",
    "    vect = TfidfVectorizer(max_features=params.get('vect__max_features'), max_df=params.get('vect__max_df'))\n",
    "    \n",
    "    K = StratifiedKFold(n_splits=10)\n",
    "    \n",
    "    t0 = time()\n",
    "    \n",
    "    predicted_y = []\n",
    "    expected_y = []    \n",
    "    score_y = []\n",
    "    \n",
    "    for train_index, test_index in K.split(X, y):\n",
    "        \n",
    "        X_train, X_test = X[train_index], X[test_index]\n",
    "        y_train, y_test = y[train_index], y[test_index]\n",
    "    \n",
    "        X_train = vect.fit_transform(X_train)\n",
    "        X_test = vect.transform(X_test)\n",
    "        \n",
    "        clf = LogisticRegression(C=params.get('clf__C'), penalty=params.get('clf__penalty'), solver='liblinear')\n",
    "        \n",
    "        clf.fit(X_train, y_train)\n",
    "        \n",
    "        predicted_y.extend(clf.predict(X_test))\n",
    "        expected_y.extend(y_test)\n",
    "        score_y.extend(clf.predict_proba(X_test))\n",
    "\n",
    "        ### get train score\n",
    "\n",
    "    # print(\"done in %0.2fs and %0.1fmin\" % ((time() - t0), ((time() - t0) / 60) ))\n",
    "    # print()\n",
    "    \n",
    "    report = pd.DataFrame(classification_report(expected_y, predicted_y, digits=5, target_names=classes_name, output_dict=True))\n",
    "    report = report.transpose()\n",
    "    \n",
    "    return (\n",
    "        report, \n",
    "        np.asarray(expected_y),\n",
    "        np.asarray(predicted_y),\n",
    "        np.asarray(score_y)\n",
    "        )"
   ]
  },
  {
   "cell_type": "code",
   "execution_count": 8,
   "metadata": {
    "collapsed": true
   },
   "outputs": [],
   "source": [
    "def run(task, dataset_name, output = None):    \n",
    "    datasets = getDatasets(task,'df', dataset_name)\n",
    "    for i in datasets.iterrows():\n",
    "\n",
    "        name = i[1]['dataset_name']\n",
    "        label = task\n",
    "        ds_path = i[1]['path']\n",
    "\n",
    "        # load training and test dataframes\n",
    "        training_path = ds_path + '/' + i[1]['training']        \n",
    "\n",
    "        df_training = pd.read_csv(training_path)#, usecols=cols)        \n",
    "\n",
    "        df_training['text'] = df_training['text'].apply(clean)\n",
    "        X_train = df_training['text'].values\n",
    "        y_train, n_classes, classes_name = labelEncoder(df_training[label].values)\n",
    "\n",
    "        # del(df_training)\n",
    "\n",
    "        # print(\"Dataset: {0} and task: {1}\".format(name, label))\n",
    "\n",
    "        # print(\"n_classes: {0}\".format(n_classes))\n",
    "\n",
    "        params = getBestParams(task, dataset_name)\n",
    "        # print(\"params: \", params)\n",
    "\n",
    "        report, expected_y, predicted_y, score_y = model(X_train, y_train, n_classes, classes_name, params)\n",
    "\n",
    "        # get ROC\n",
    "        dataset_name = dataset_name + '/' + baseline\n",
    "        \n",
    "        roc_c = ROC(expected_y, score_y, n_classes, task, dataset_name, classes_name)\n",
    "        report['roc'] = list(roc_c.values()) + [roc_c['macro']] * 2\n",
    "\n",
    "        # compute accuracy\n",
    "        accuracy = accuracy_score(expected_y, predicted_y)\n",
    "        report['accuracy'] = [accuracy] * (n_classes + 3)\n",
    "\n",
    "        # compute confusion matrix\n",
    "        c_matrix = confusion_matrix(expected_y, predicted_y)\n",
    "        plot_confusion_matrix(c_matrix, classes_name, task, dataset_name, True)\n",
    "        cm = pd.DataFrame(c_matrix, columns=classes_name, index=classes_name)\n",
    "\n",
    "        directory = './Reports/' + task + '/' + dataset_name + '/'\n",
    "        report.to_csv(directory + 'report.csv')\n",
    "        cm.to_csv(directory + 'confusion_matrix.csv')    \n",
    "\n",
    "        print(report)\n",
    "\n",
    "        # output.put('results for {0} and {1}'.format(task, dataset_name))\n",
    "        # output.put(report.to_dict())\n",
    "\n",
    "        pass"
   ]
  },
  {
   "cell_type": "code",
   "execution_count": null,
   "metadata": {
    "collapsed": true
   },
   "outputs": [],
   "source": [
    "import multiprocessing as mp\n",
    "import random\n",
    "import string\n",
    "\n",
    "random.seed(123)\n",
    "\n",
    "# Define an output queue\n",
    "output = mp.Queue()\n",
    "\n",
    "#task_list = ['relig','polit','education','professional','region','TI']#,'gender','age']\n",
    "task_list = ['gender','age']\n",
    "dataset_list = ['brmoral','b5post','esic','brblogset','enblogs','pan13_en','pan13_es','sms']\n",
    "\n",
    "args = []\n",
    "for task in task_list:\n",
    "    for ds in dataset_list:\n",
    "        d = getDatasets(task,'df', ds)\n",
    "        if len(d.values) > 0:\n",
    "            args.append([task, ds])"
   ]
  },
  {
   "cell_type": "code",
   "execution_count": null,
   "metadata": {
    "scrolled": false
   },
   "outputs": [
    {
     "name": "stderr",
     "output_type": "stream",
     "text": [
      "/home/rafael/.local/lib/python3.6/site-packages/sklearn/linear_model/logistic.py:459: FutureWarning: Default multi_class will be changed to 'auto' in 0.22. Specify the multi_class option to silence this warning.\n",
      "  \"this warning.\", FutureWarning)\n",
      "/home/rafael/.local/lib/python3.6/site-packages/sklearn/linear_model/logistic.py:459: FutureWarning: Default multi_class will be changed to 'auto' in 0.22. Specify the multi_class option to silence this warning.\n",
      "  \"this warning.\", FutureWarning)\n"
     ]
    },
    {
     "name": "stdout",
     "output_type": "stream",
     "text": [
      "Normalized confusion matrix\n",
      "[[0.57142857 0.2967033  0.13186813]\n",
      " [0.2826087  0.43478261 0.2826087 ]\n",
      " [0.21686747 0.39759036 0.38554217]]\n",
      "              f1-score  precision    recall  support       roc  accuracy\n",
      "a17-22        0.556150   0.541667  0.571429     91.0  0.734568  0.466165\n",
      "a25-29        0.416667   0.400000  0.434783     92.0  0.565655  0.466165\n",
      "a31-46        0.418301   0.457143  0.385542     83.0  0.687537  0.466165\n",
      "micro avg     0.466165   0.466165  0.466165    266.0  0.665088  0.466165\n",
      "macro avg     0.463706   0.466270  0.463918    266.0  0.665088  0.466165\n",
      "weighted avg  0.464894   0.466295  0.466165    266.0  0.665088  0.466165\n",
      "Normalized confusion matrix\n",
      "[[0.42016807 0.57983193]\n",
      " [0.11650485 0.88349515]]\n",
      "              f1-score  precision    recall  support       roc  accuracy\n",
      "F             0.518135   0.675676  0.420168    119.0  0.249164  0.713846\n",
      "M             0.796499   0.725100  0.883495    206.0  0.750836  0.713846\n",
      "micro avg     0.713846   0.713846  0.713846    325.0  0.504987  0.713846\n",
      "macro avg     0.657317   0.700388  0.651832    325.0  0.504987  0.713846\n",
      "weighted avg  0.694575   0.707003  0.713846    325.0  0.504987  0.713846\n",
      "Normalized confusion matrix\n",
      "[[0.62913907 0.29139073 0.0794702 ]\n",
      " [0.28187919 0.54362416 0.17449664]\n",
      " [0.15929204 0.2920354  0.54867257]]\n",
      "              f1-score  precision    recall  support       roc  accuracy\n",
      "a18-20        0.620915   0.612903  0.629139    151.0  0.776983  0.576271\n",
      "a23-25        0.527687   0.512658  0.543624    149.0  0.682123  0.576271\n",
      "a28-61        0.582160   0.620000  0.548673    113.0  0.832212  0.576271\n",
      "micro avg     0.576271   0.576271  0.576271    413.0  0.765527  0.576271\n",
      "macro avg     0.576921   0.581854  0.573812    413.0  0.765527  0.576271\n",
      "weighted avg  0.576677   0.578679  0.576271    413.0  0.765527  0.576271\n"
     ]
    },
    {
     "name": "stderr",
     "output_type": "stream",
     "text": [
      "/home/rafael/.local/lib/python3.6/site-packages/sklearn/linear_model/logistic.py:459: FutureWarning: Default multi_class will be changed to 'auto' in 0.22. Specify the multi_class option to silence this warning.\n",
      "  \"this warning.\", FutureWarning)\n",
      "/home/rafael/.local/lib/python3.6/site-packages/sklearn/linear_model/logistic.py:459: FutureWarning: Default multi_class will be changed to 'auto' in 0.22. Specify the multi_class option to silence this warning.\n",
      "  \"this warning.\", FutureWarning)\n"
     ]
    },
    {
     "name": "stdout",
     "output_type": "stream",
     "text": [
      "Normalized confusion matrix\n",
      "[[0.90752688 0.09247312]\n",
      " [0.17142857 0.82857143]]\n",
      "              f1-score  precision    recall  support       roc  accuracy\n",
      "female        0.891235   0.875519  0.907527    465.0  0.057512   0.87362\n",
      "male          0.849195   0.870871  0.828571    350.0  0.942488   0.87362\n",
      "micro avg     0.873620   0.873620  0.873620    815.0  0.501737   0.87362\n",
      "macro avg     0.870215   0.873195  0.868049    815.0  0.501737   0.87362\n",
      "weighted avg  0.873181   0.873523  0.873620    815.0  0.501737   0.87362\n"
     ]
    },
    {
     "name": "stderr",
     "output_type": "stream",
     "text": [
      "/home/rafael/.local/lib/python3.6/site-packages/sklearn/linear_model/logistic.py:459: FutureWarning: Default multi_class will be changed to 'auto' in 0.22. Specify the multi_class option to silence this warning.\n",
      "  \"this warning.\", FutureWarning)\n"
     ]
    },
    {
     "name": "stdout",
     "output_type": "stream",
     "text": [
      "Normalized confusion matrix\n",
      "[[0.00582249 0.99417751]\n",
      " [0.00476623 0.99523377]]\n",
      "Normalized confusion matrix\n",
      "[[0.13117871 0.66730038 0.20152091]\n",
      " [0.08078335 0.68298654 0.23623011]\n",
      " [0.05149051 0.57317073 0.37533875]]\n",
      "              f1-score  precision    recall  support       roc  accuracy\n",
      "Feminino      0.011500   0.461538  0.005822  40189.0  0.496639  0.587265\n",
      "Masculino     0.739182   0.587923  0.995234  57278.0  0.503361  0.587265\n",
      "micro avg     0.587265   0.587265  0.587265  97467.0  0.500002  0.587265\n",
      "macro avg     0.375341   0.524731  0.500528  97467.0  0.500002  0.587265\n",
      "weighted avg  0.439134   0.535810  0.587265  97467.0  0.500002  0.587265\n",
      "              f1-score  precision    recall  support       roc  accuracy\n",
      "a10-25        0.197425   0.398844  0.131179    526.0  0.598086  0.434407\n",
      "a26-40        0.519311   0.418919  0.682987    817.0  0.559831  0.434407\n",
      "a40+          0.421613   0.480903  0.375339    738.0  0.626239  0.434407\n",
      "micro avg     0.434407   0.434407  0.434407   2081.0  0.595061  0.434407\n",
      "macro avg     0.379450   0.432889  0.396501   2081.0  0.595061  0.434407\n",
      "weighted avg  0.403303   0.435826  0.434407   2081.0  0.595061  0.434407\n",
      "Normalized confusion matrix\n",
      "[[0.67619048 0.32380952]\n",
      " [0.12973409 0.87026591]]\n",
      "              f1-score  precision    recall  support       roc  accuracy\n",
      "Feminino      0.724028   0.779150  0.676190    840.0  0.148881  0.791927\n",
      "Masculino     0.833012   0.798817  0.870266   1241.0  0.851119  0.791927\n",
      "micro avg     0.791927   0.791927  0.791927   2081.0  0.500749  0.791927\n",
      "macro avg     0.778520   0.788983  0.773228   2081.0  0.500749  0.791927\n",
      "weighted avg  0.789020   0.790878  0.791927   2081.0  0.500749  0.791927\n"
     ]
    },
    {
     "name": "stderr",
     "output_type": "stream",
     "text": [
      "/home/rafael/.local/lib/python3.6/site-packages/sklearn/linear_model/logistic.py:459: FutureWarning: Default multi_class will be changed to 'auto' in 0.22. Specify the multi_class option to silence this warning.\n",
      "  \"this warning.\", FutureWarning)\n",
      "/home/rafael/.local/lib/python3.6/site-packages/sklearn/linear_model/logistic.py:459: FutureWarning: Default multi_class will be changed to 'auto' in 0.22. Specify the multi_class option to silence this warning.\n",
      "  \"this warning.\", FutureWarning)\n"
     ]
    },
    {
     "name": "stdout",
     "output_type": "stream",
     "text": [
      "Normalized confusion matrix\n",
      "[[0.40552093 0.38918077 0.20529831]\n",
      " [0.17511016 0.50093603 0.3239538 ]\n",
      " [0.07572112 0.23571532 0.68856356]]\n",
      "              f1-score  precision    recall  support       roc  accuracy\n",
      "a17-29        0.452459   0.511685  0.405521  22460.0  0.751935  0.548159\n",
      "a31-42        0.504247   0.507603  0.500936  34721.0  0.646743  0.548159\n",
      "a43-80        0.641028   0.599631  0.688564  34495.0  0.783443  0.548159\n",
      "micro avg     0.548159   0.548159  0.548159  91676.0  0.727382  0.548159\n",
      "macro avg     0.532578   0.539640  0.531674  91676.0  0.727382  0.548159\n",
      "weighted avg  0.543026   0.543231  0.548159  91676.0  0.727382  0.548159\n",
      "Normalized confusion matrix\n",
      "[[0.42193196 0.55741191 0.02065614]\n",
      " [0.18907239 0.76910017 0.04182744]\n",
      " [0.14457314 0.77520378 0.08022308]]\n",
      "              f1-score  precision    recall  support       roc  accuracy\n",
      "10s           0.508605   0.640092  0.421932   6584.0  0.682577  0.516305\n",
      "20s           0.588346   0.476386  0.769100   6479.0  0.616696  0.516305\n",
      "30s           0.127863   0.314815  0.080223   2331.0  0.622353  0.516305\n",
      "micro avg     0.516305   0.516305  0.516305  15394.0  0.640588  0.516305\n",
      "macro avg     0.408272   0.477098  0.423752  15394.0  0.640588  0.516305\n",
      "weighted avg  0.484513   0.521938  0.516305  15394.0  0.640588  0.516305\n"
     ]
    }
   ],
   "source": [
    "# Setup a list of processes that we want to run\n",
    "processes = [mp.Process(target=run, args=(x[0], x[1], output)) for x in args]\n",
    "\n",
    "# Run processes\n",
    "for p in processes:\n",
    "    p.start()\n",
    "\n",
    "# Exit the completed processes\n",
    "for p in processes:\n",
    "    p.join()\n",
    "\n",
    "# Get process results from the output queue\n",
    "results = [output.get() for p in processes]\n",
    "\n",
    "print(results)"
   ]
  },
  {
   "cell_type": "code",
   "execution_count": null,
   "metadata": {
    "collapsed": true
   },
   "outputs": [],
   "source": [
    "args"
   ]
  },
  {
   "cell_type": "code",
   "execution_count": null,
   "metadata": {
    "collapsed": true
   },
   "outputs": [],
   "source": []
  }
 ],
 "metadata": {
  "kernelspec": {
   "display_name": "Python 3",
   "language": "python",
   "name": "python3"
  },
  "language_info": {
   "codemirror_mode": {
    "name": "ipython",
    "version": 3
   },
   "file_extension": ".py",
   "mimetype": "text/x-python",
   "name": "python",
   "nbconvert_exporter": "python",
   "pygments_lexer": "ipython3",
   "version": "3.6.3"
  }
 },
 "nbformat": 4,
 "nbformat_minor": 2
}
