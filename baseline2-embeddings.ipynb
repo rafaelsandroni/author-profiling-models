{
 "cells": [
  {
   "cell_type": "code",
   "execution_count": 1,
   "metadata": {},
   "outputs": [],
   "source": [
    "import matplotlib.pyplot as plt\n",
    "import warnings\n",
    "warnings.filterwarnings('ignore')\n",
    "%matplotlib inline"
   ]
  },
  {
   "cell_type": "code",
   "execution_count": 1,
   "metadata": {},
   "outputs": [],
   "source": [
    "from functions.grid_baseline2 import mlp\n",
    "from functions.main import run"
   ]
  },
  {
   "cell_type": "code",
   "execution_count": 2,
   "metadata": {},
   "outputs": [
    {
     "name": "stdout",
     "output_type": "stream",
     "text": [
      "Dataset: brmoral and task: gender\n",
      "\n",
      "training set:  (325, 3)\n",
      "gender\n",
      "F    119\n",
      "M    206\n",
      "dtype: int64\n",
      "\n",
      "test set:  (82, 3)\n",
      "gender\n",
      "F    24\n",
      "M    58\n",
      "dtype: int64\n",
      "\n",
      "n_classes: 2\n",
      "Performing grid search...\n",
      "Pipeline steps: ['vect', 'tfidf', 'clf']\n",
      "done in 19.37s and 0.3min\n",
      "\n",
      "Best score: 0.735\n",
      "Best parameters set:\n",
      "\tclf__hidden_layer_sizes: (10, 4)\n",
      "\tclf__random_state: 1\n",
      "\tvect__max_features: 3000\n",
      "Training score\n",
      "             precision    recall  f1-score   support\n",
      "\n",
      "          0       1.00      1.00      1.00       119\n",
      "          1       1.00      1.00      1.00       206\n",
      "\n",
      "avg / total       1.00      1.00      1.00       325\n",
      "\n",
      "Test score\n",
      "             precision    recall  f1-score   support\n",
      "\n",
      "          0       0.56      0.58      0.57        24\n",
      "          1       0.82      0.81      0.82        58\n",
      "\n",
      "avg / total       0.75      0.74      0.75        82\n",
      "\n",
      "Accuracy 0.7439024390243902\n",
      "F1_score 0.7454022117860931\n",
      "[[14 10]\n",
      " [11 47]]\n",
      "Error plotting ROC curve\n"
     ]
    },
    {
     "ename": "TypeError",
     "evalue": "%d format: a number is required, not builtin_function_or_method",
     "output_type": "error",
     "traceback": [
      "\u001b[0;31m---------------------------------------------------------------------------\u001b[0m",
      "\u001b[0;31mTypeError\u001b[0m                                 Traceback (most recent call last)",
      "\u001b[0;32m<ipython-input-2-d8921f81e637>\u001b[0m in \u001b[0;36m<module>\u001b[0;34m()\u001b[0m\n\u001b[0;32m----> 1\u001b[0;31m \u001b[0mrun\u001b[0m\u001b[0;34m(\u001b[0m\u001b[0;34m\"gender\"\u001b[0m\u001b[0;34m,\u001b[0m \u001b[0;34m\"brmoral\"\u001b[0m\u001b[0;34m)\u001b[0m\u001b[0;34m\u001b[0m\u001b[0m\n\u001b[0m",
      "\u001b[0;32m/home/rafael/drive/Models/functions/main.py\u001b[0m in \u001b[0;36mrun\u001b[0;34m(task, dataset)\u001b[0m\n\u001b[1;32m     59\u001b[0m         \u001b[0mprint\u001b[0m\u001b[0;34m(\u001b[0m\u001b[0;34m\"n_classes: {0}\"\u001b[0m\u001b[0;34m.\u001b[0m\u001b[0mformat\u001b[0m\u001b[0;34m(\u001b[0m\u001b[0mn_classes\u001b[0m\u001b[0;34m)\u001b[0m\u001b[0;34m)\u001b[0m\u001b[0;34m\u001b[0m\u001b[0m\n\u001b[1;32m     60\u001b[0m \u001b[0;34m\u001b[0m\u001b[0m\n\u001b[0;32m---> 61\u001b[0;31m         \u001b[0;34m(\u001b[0m\u001b[0macc\u001b[0m\u001b[0;34m,\u001b[0m \u001b[0mf1\u001b[0m\u001b[0;34m,\u001b[0m \u001b[0mcm\u001b[0m\u001b[0;34m)\u001b[0m \u001b[0;34m=\u001b[0m \u001b[0mmlp\u001b[0m\u001b[0;34m(\u001b[0m\u001b[0mX_train\u001b[0m\u001b[0;34m,\u001b[0m \u001b[0mX_test\u001b[0m\u001b[0;34m,\u001b[0m \u001b[0my_train\u001b[0m\u001b[0;34m,\u001b[0m \u001b[0my_test\u001b[0m\u001b[0;34m,\u001b[0m \u001b[0mn_classes\u001b[0m\u001b[0;34m)\u001b[0m\u001b[0;34m\u001b[0m\u001b[0m\n\u001b[0m\u001b[1;32m     62\u001b[0m \u001b[0;34m\u001b[0m\u001b[0m\n\u001b[1;32m     63\u001b[0m \u001b[0;34m\u001b[0m\u001b[0m\n",
      "\u001b[0;32m/home/rafael/drive/Models/functions/grid_baseline2.py\u001b[0m in \u001b[0;36mmlp\u001b[0;34m(X_train, X_test, y_train, y_test, n_classes)\u001b[0m\n\u001b[1;32m     94\u001b[0m     ])    \n\u001b[1;32m     95\u001b[0m \u001b[0;34m\u001b[0m\u001b[0m\n\u001b[0;32m---> 96\u001b[0;31m     \u001b[0;32mreturn\u001b[0m \u001b[0mgrid\u001b[0m\u001b[0;34m(\u001b[0m\u001b[0mX_train\u001b[0m\u001b[0;34m,\u001b[0m \u001b[0mX_test\u001b[0m\u001b[0;34m,\u001b[0m \u001b[0my_train\u001b[0m\u001b[0;34m,\u001b[0m \u001b[0my_test\u001b[0m\u001b[0;34m,\u001b[0m \u001b[0mn_classes\u001b[0m\u001b[0;34m,\u001b[0m \u001b[0mpipeline\u001b[0m\u001b[0;34m,\u001b[0m \u001b[0mparams_grid\u001b[0m\u001b[0;34m)\u001b[0m\u001b[0;34m\u001b[0m\u001b[0m\n\u001b[0m\u001b[1;32m     97\u001b[0m \u001b[0;34m\u001b[0m\u001b[0m\n\u001b[1;32m     98\u001b[0m \u001b[0;32mdef\u001b[0m \u001b[0mgrid\u001b[0m\u001b[0;34m(\u001b[0m\u001b[0mX_train\u001b[0m\u001b[0;34m,\u001b[0m \u001b[0mX_test\u001b[0m\u001b[0;34m,\u001b[0m \u001b[0my_train\u001b[0m\u001b[0;34m,\u001b[0m \u001b[0my_test\u001b[0m\u001b[0;34m,\u001b[0m \u001b[0mn_classes\u001b[0m\u001b[0;34m,\u001b[0m \u001b[0mpipeline\u001b[0m \u001b[0;34m=\u001b[0m \u001b[0;32mNone\u001b[0m\u001b[0;34m,\u001b[0m \u001b[0mparams_grid\u001b[0m \u001b[0;34m=\u001b[0m \u001b[0;32mNone\u001b[0m\u001b[0;34m)\u001b[0m\u001b[0;34m:\u001b[0m\u001b[0;34m\u001b[0m\u001b[0m\n",
      "\u001b[0;32m/home/rafael/drive/Models/functions/grid_baseline2.py\u001b[0m in \u001b[0;36mgrid\u001b[0;34m(X_train, X_test, y_train, y_test, n_classes, pipeline, params_grid)\u001b[0m\n\u001b[1;32m    152\u001b[0m     \u001b[0;31m# image drawing\u001b[0m\u001b[0;34m\u001b[0m\u001b[0;34m\u001b[0m\u001b[0m\n\u001b[1;32m    153\u001b[0m     \u001b[0mplt\u001b[0m\u001b[0;34m.\u001b[0m\u001b[0mfigure\u001b[0m\u001b[0;34m(\u001b[0m\u001b[0;34m)\u001b[0m\u001b[0;34m\u001b[0m\u001b[0m\n\u001b[0;32m--> 154\u001b[0;31m     \u001b[0mplt\u001b[0m\u001b[0;34m.\u001b[0m\u001b[0mtitle\u001b[0m\u001b[0;34m(\u001b[0m\u001b[0;34m'Receiver Operating Characteristic %d iter'\u001b[0m \u001b[0;34m%\u001b[0m\u001b[0miter\u001b[0m\u001b[0;34m)\u001b[0m\u001b[0;34m\u001b[0m\u001b[0m\n\u001b[0m\u001b[1;32m    155\u001b[0m     \u001b[0mplt\u001b[0m\u001b[0;34m.\u001b[0m\u001b[0mplot\u001b[0m\u001b[0;34m(\u001b[0m\u001b[0mfpr\u001b[0m\u001b[0;34m,\u001b[0m \u001b[0mtpr\u001b[0m\u001b[0;34m,\u001b[0m \u001b[0mlabel\u001b[0m \u001b[0;34m=\u001b[0m \u001b[0;34m'MLP AUC = %0.2f'\u001b[0m \u001b[0;34m%\u001b[0m \u001b[0mroc_auc\u001b[0m\u001b[0;34m)\u001b[0m\u001b[0;34m\u001b[0m\u001b[0m\n\u001b[1;32m    156\u001b[0m     \u001b[0;31m# plt.plot(fpr2, tpr2, label = 'MLP AUC = %0.2f' % roc_auc2)\u001b[0m\u001b[0;34m\u001b[0m\u001b[0;34m\u001b[0m\u001b[0m\n",
      "\u001b[0;31mTypeError\u001b[0m: %d format: a number is required, not builtin_function_or_method"
     ]
    },
    {
     "data": {
      "text/plain": [
       "<Figure size 432x288 with 0 Axes>"
      ]
     },
     "metadata": {},
     "output_type": "display_data"
    }
   ],
   "source": [
    "run(\"gender\", \"brmoral\")"
   ]
  },
  {
   "cell_type": "code",
   "execution_count": 9,
   "metadata": {},
   "outputs": [
    {
     "data": {
      "text/html": [
       "<div>\n",
       "<style scoped>\n",
       "    .dataframe tbody tr th:only-of-type {\n",
       "        vertical-align: middle;\n",
       "    }\n",
       "\n",
       "    .dataframe tbody tr th {\n",
       "        vertical-align: top;\n",
       "    }\n",
       "\n",
       "    .dataframe thead th {\n",
       "        text-align: right;\n",
       "    }\n",
       "</style>\n",
       "<table border=\"1\" class=\"dataframe\">\n",
       "  <thead>\n",
       "    <tr style=\"text-align: right;\">\n",
       "      <th></th>\n",
       "      <th>dataset_name</th>\n",
       "      <th>path</th>\n",
       "      <th>task</th>\n",
       "      <th>training</th>\n",
       "      <th>test</th>\n",
       "    </tr>\n",
       "  </thead>\n",
       "  <tbody>\n",
       "    <tr>\n",
       "      <th>0</th>\n",
       "      <td>b5post</td>\n",
       "      <td>/home/rafael/drive/Data/Dataframe/b5post</td>\n",
       "      <td>age</td>\n",
       "      <td>age_pt_training_df.csv</td>\n",
       "      <td>age_pt_test_df.csv</td>\n",
       "    </tr>\n",
       "    <tr>\n",
       "      <th>1</th>\n",
       "      <td>esic</td>\n",
       "      <td>/home/rafael/drive/Data/Dataframe/esic</td>\n",
       "      <td>age</td>\n",
       "      <td>age_pt_training_df.csv</td>\n",
       "      <td>age_pt_test_df.csv</td>\n",
       "    </tr>\n",
       "    <tr>\n",
       "      <th>2</th>\n",
       "      <td>brmoral</td>\n",
       "      <td>/home/rafael/drive/Data/Dataframe/brmoral</td>\n",
       "      <td>age</td>\n",
       "      <td>age_pt_training_df.csv</td>\n",
       "      <td>age_pt_test_df.csv</td>\n",
       "    </tr>\n",
       "    <tr>\n",
       "      <th>3</th>\n",
       "      <td>enblogs</td>\n",
       "      <td>/home/rafael/drive/Data/Dataframe/enblogs</td>\n",
       "      <td>age</td>\n",
       "      <td>age_en_training_df.csv</td>\n",
       "      <td>age_en_test_df.csv</td>\n",
       "    </tr>\n",
       "    <tr>\n",
       "      <th>4</th>\n",
       "      <td>brblogset</td>\n",
       "      <td>/home/rafael/drive/Data/Dataframe/brblogset</td>\n",
       "      <td>age</td>\n",
       "      <td>age_pt_training_df.csv</td>\n",
       "      <td>age_pt_test_df.csv</td>\n",
       "    </tr>\n",
       "    <tr>\n",
       "      <th>5</th>\n",
       "      <td>pan13_en</td>\n",
       "      <td>/home/rafael/drive/Data/Dataframe/pan13_en</td>\n",
       "      <td>age</td>\n",
       "      <td>gender_age_en_training_df.csv</td>\n",
       "      <td>gender_age_en_test1_df.csv</td>\n",
       "    </tr>\n",
       "    <tr>\n",
       "      <th>6</th>\n",
       "      <td>pan13_es</td>\n",
       "      <td>/home/rafael/drive/Data/Dataframe/pan13_es</td>\n",
       "      <td>age</td>\n",
       "      <td>gender_age_es_training_df.csv</td>\n",
       "      <td>gender_age_es_test1_df.csv</td>\n",
       "    </tr>\n",
       "  </tbody>\n",
       "</table>\n",
       "</div>"
      ],
      "text/plain": [
       "  dataset_name                                         path task  \\\n",
       "0       b5post     /home/rafael/drive/Data/Dataframe/b5post  age   \n",
       "1         esic       /home/rafael/drive/Data/Dataframe/esic  age   \n",
       "2      brmoral    /home/rafael/drive/Data/Dataframe/brmoral  age   \n",
       "3      enblogs    /home/rafael/drive/Data/Dataframe/enblogs  age   \n",
       "4    brblogset  /home/rafael/drive/Data/Dataframe/brblogset  age   \n",
       "5     pan13_en   /home/rafael/drive/Data/Dataframe/pan13_en  age   \n",
       "6     pan13_es   /home/rafael/drive/Data/Dataframe/pan13_es  age   \n",
       "\n",
       "                        training                        test  \n",
       "0         age_pt_training_df.csv          age_pt_test_df.csv  \n",
       "1         age_pt_training_df.csv          age_pt_test_df.csv  \n",
       "2         age_pt_training_df.csv          age_pt_test_df.csv  \n",
       "3         age_en_training_df.csv          age_en_test_df.csv  \n",
       "4         age_pt_training_df.csv          age_pt_test_df.csv  \n",
       "5  gender_age_en_training_df.csv  gender_age_en_test1_df.csv  \n",
       "6  gender_age_es_training_df.csv  gender_age_es_test1_df.csv  "
      ]
     },
     "execution_count": 9,
     "metadata": {},
     "output_type": "execute_result"
    }
   ],
   "source": [
    "df"
   ]
  },
  {
   "cell_type": "code",
   "execution_count": null,
   "metadata": {},
   "outputs": [],
   "source": []
  }
 ],
 "metadata": {
  "kernelspec": {
   "display_name": "Python 3",
   "language": "python",
   "name": "python3"
  },
  "language_info": {
   "codemirror_mode": {
    "name": "ipython",
    "version": 3
   },
   "file_extension": ".py",
   "mimetype": "text/x-python",
   "name": "python",
   "nbconvert_exporter": "python",
   "pygments_lexer": "ipython3",
   "version": "3.6.5"
  }
 },
 "nbformat": 4,
 "nbformat_minor": 2
}
