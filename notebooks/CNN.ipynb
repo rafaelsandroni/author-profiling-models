{
 "cells": [
  {
   "cell_type": "code",
   "execution_count": 76,
   "metadata": {},
   "outputs": [
    {
     "ename": "ImportError",
     "evalue": "No module named 'kron'",
     "output_type": "error",
     "traceback": [
      "\u001b[0;31m---------------------------------------------------------------------------\u001b[0m",
      "\u001b[0;31mImportError\u001b[0m                               Traceback (most recent call last)",
      "\u001b[0;32m<ipython-input-76-29cc0d4b1c03>\u001b[0m in \u001b[0;36m<module>\u001b[0;34m()\u001b[0m\n\u001b[1;32m      1\u001b[0m \u001b[0;32mimport\u001b[0m \u001b[0mnumpy\u001b[0m \u001b[0;32mas\u001b[0m \u001b[0mnp\u001b[0m\u001b[0;34m\u001b[0m\u001b[0m\n\u001b[0;32m----> 2\u001b[0;31m \u001b[0;32mimport\u001b[0m \u001b[0mkron\u001b[0m\u001b[0;34m\u001b[0m\u001b[0m\n\u001b[0m",
      "\u001b[0;31mImportError\u001b[0m: No module named 'kron'"
     ]
    }
   ],
   "source": [
    "import numpy as np\n",
    "import kron"
   ]
  },
  {
   "cell_type": "code",
   "execution_count": 73,
   "metadata": {},
   "outputs": [
    {
     "ename": "NameError",
     "evalue": "name 'kron' is not defined",
     "output_type": "error",
     "traceback": [
      "\u001b[0;31m---------------------------------------------------------------------------\u001b[0m",
      "\u001b[0;31mNameError\u001b[0m                                 Traceback (most recent call last)",
      "\u001b[0;32m<ipython-input-73-b12cc7e17d39>\u001b[0m in \u001b[0;36m<module>\u001b[0;34m()\u001b[0m\n\u001b[1;32m     12\u001b[0m \u001b[0md\u001b[0m \u001b[0;34m=\u001b[0m \u001b[0mnp\u001b[0m\u001b[0;34m.\u001b[0m\u001b[0mzeros\u001b[0m\u001b[0;34m(\u001b[0m\u001b[0;34m(\u001b[0m\u001b[0;36m3\u001b[0m\u001b[0;34m,\u001b[0m\u001b[0;36m1\u001b[0m\u001b[0;34m)\u001b[0m\u001b[0;34m)\u001b[0m\u001b[0;34m\u001b[0m\u001b[0m\n\u001b[1;32m     13\u001b[0m \u001b[0;34m\u001b[0m\u001b[0m\n\u001b[0;32m---> 14\u001b[0;31m \u001b[0mkron\u001b[0m\u001b[0;34m(\u001b[0m\u001b[0mones\u001b[0m\u001b[0;34m(\u001b[0m\u001b[0;34m(\u001b[0m\u001b[0;36m2\u001b[0m\u001b[0;34m,\u001b[0m\u001b[0;36m3\u001b[0m\u001b[0;34m)\u001b[0m\u001b[0;34m)\u001b[0m\u001b[0;34m,\u001b[0m\u001b[0md\u001b[0m\u001b[0;34m)\u001b[0m\u001b[0;34m\u001b[0m\u001b[0m\n\u001b[0m",
      "\u001b[0;31mNameError\u001b[0m: name 'kron' is not defined"
     ]
    }
   ],
   "source": [
    "X =  np.array([ [ 11, 12, 13, 14 ],\n",
    "                [ 21, 22, 23, 24 ],\n",
    "                [ 31, 32, 33, 34 ] ])\n",
    "\n",
    "#X[:,0]\n",
    "\n",
    "#np.zeros((10,2))\n",
    "\n",
    "def sub2ind(array_shape, rows, cols):\n",
    "    return rows*array_shape[1] + cols\n",
    "\n",
    "d = np.zeros((3,1)) \n",
    "\n",
    "kron(ones((2,3)),d)"
   ]
  },
  {
   "cell_type": "code",
   "execution_count": null,
   "metadata": {},
   "outputs": [],
   "source": [
    "MnistConv(Wi, W1, w2, X, D):\n",
    "    \n",
    "    alpha = 0.95\n",
    "    beta - 0.95\n",
    "    \n",
    "    momentumi = np.zeros(len(Wi))\n",
    "    momentum1 = np.zeros(len(W1))\n",
    "    momentum2 = np.zeros(len(W2))\n",
    "    \n",
    "    N = len(D)\n",
    "    \n",
    "    bsize = 100\n",
    "    blist = [i for i in range(1, bsize, N-bsize+1)]\n",
    "    \n",
    "    for batch in range(0, len(blist)):\n",
    "        \n",
    "        dWi = np.zeros(len(Wi))\n",
    "        dW1 = np.zeros(len(W1))\n",
    "        dW2 = np.zeros(len(W2))\n",
    "        \n",
    "        begin = blist[batch]\n",
    "        \n",
    "        for k in range(begin, begin+bsize+1):\n",
    "            \n",
    "            # Feature Extraction\n",
    "            x = X[:,:,k]\n",
    "            y1 = Conv(x, Wi)\n",
    "            y2 = ReLu(y1) # max(0, y1)\n",
    "            y3 = Pool(y2)\n",
    "            y4 = np.reshape(y3, [], 1)\n",
    "            \n",
    "            # MLP\n",
    "            v5 = W1*y4\n",
    "            y5 = ReLu(v5)\n",
    "            v = W2*y5\n",
    "            y = Softmax(v)\n",
    "            \n",
    "            # Calc Error\n",
    "            d = np.zeros((10, 1))\n",
    "            \n",
    "            d[sub2ind(d.shape, D[k], 1)] == True#, d\n",
    "            \n",
    "            e = d - y\n",
    "            delta = e\n",
    "            \n",
    "            e5 = W2.conj().transpose() * delta\n",
    "            delta5 = (y5 > 0) * e5 #ponto a ponto\n",
    "            e4 = W1.transpose() * delta5\n",
    "            e3 = reshape(e4, len(y3))\n",
    "            e2 = np.zeros(len(y2))\n",
    "            W3 = np.ones(len(y2)) / (2*2)\n",
    "            \n",
    "            for c in range(0, 20):\n",
    "                e2[:, :, c] = kron(e3[:, :, c], np.ones([2,2])) .* W3[:, :, c]\n",
    "            \n",
    "            delta2 = (y2 > 0) * e2\n",
    "            delta1_x = np.zeros(len(Wi))\n",
    "            \n",
    "            for c in range(0, 20):\n",
    "                delta1_x[:, :, c] = conv2(x[:, :], rot90(delta2[:, :, c], 2),'valid')\n",
    "                \n",
    "            dWi = Wi + delta1_x\n",
    "            dW1 = W1 + delta5 *y4\n",
    "            dW2 = W2 + delta  * y5\n",
    "            \n",
    "        pass\n",
    "    \n",
    "        dWi = dWi / bsize\n",
    "        dW1 = dW1 / bsize\n",
    "        dW2 = dW2 / bsize\n",
    "        \n",
    "        momentumi = alpha*dWi + beta*momentumi\n",
    "        Wi = Wi + momentumi\n",
    "        \n",
    "        momentum1 = alpha*dW1 + beta*momentum1\n",
    "        W1 = W1 + momentum1\n",
    "        \n",
    "        momentum2 = alpha*dW2 + beta*momentum2\n",
    "        W2 = W2 + momentum2\n",
    "        \n",
    "        \n",
    "            \n",
    "            \n",
    "        "
   ]
  }
 ],
 "metadata": {
  "kernelspec": {
   "display_name": "Python 3",
   "language": "python",
   "name": "python3"
  },
  "language_info": {
   "codemirror_mode": {
    "name": "ipython",
    "version": 3
   },
   "file_extension": ".py",
   "mimetype": "text/x-python",
   "name": "python",
   "nbconvert_exporter": "python",
   "pygments_lexer": "ipython3",
   "version": "3.5.2"
  }
 },
 "nbformat": 4,
 "nbformat_minor": 2
}
