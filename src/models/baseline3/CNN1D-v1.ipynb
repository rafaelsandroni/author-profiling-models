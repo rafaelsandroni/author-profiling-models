{
 "cells": [
  {
   "cell_type": "code",
   "execution_count": 1,
   "metadata": {},
   "outputs": [
    {
     "name": "stderr",
     "output_type": "stream",
     "text": [
      "Using TensorFlow backend.\n"
     ]
    }
   ],
   "source": [
    "import keras"
   ]
  },
  {
   "cell_type": "code",
   "execution_count": 2,
   "metadata": {},
   "outputs": [],
   "source": [
    "from keras.layers import Activation, Input, Dense, Flatten, Dropout, Embedding\n",
    "from keras.layers.convolutional import Conv1D, MaxPooling1D\n",
    "from keras.layers.merge import concatenate\n",
    "from keras import regularizers\n",
    "from keras.models import Model, Sequential\n",
    "#from Models.functions.preprocessing import clean\n",
    "from sklearn import preprocessing\n",
    "from sklearn.metrics import accuracy_score, f1_score, precision_recall_fscore_support\n",
    "import numpy as np\n",
    "from keras.callbacks import EarlyStopping\n",
    "from keras.wrappers.scikit_learn import KerasClassifier\n",
    "from sklearn.pipeline import Pipeline\n",
    "import itertools"
   ]
  },
  {
   "cell_type": "code",
   "execution_count": 3,
   "metadata": {},
   "outputs": [],
   "source": [
    "def create_model(filters = [100], kernel_size = [50], strides = [100], dropout_rate = [0.5], pool_size = [5]):\n",
    "\n",
    "    model = Sequential()\n",
    "\n",
    "    # conv 1\n",
    "    model.add(Conv1D(filters = filters[0], \n",
    "                     kernel_size = kernel_size[0],\n",
    "                     strides = strides[0], \n",
    "                     activation = 'relu', \n",
    "                     input_shape = (20000, 1) ))\n",
    "\n",
    "    # pooling layer 1\n",
    "    model.add(MaxPooling1D(pool_size = pool_size[0], strides = 1))\n",
    "    model.add(Activation('relu'))\n",
    "\n",
    "    model.add(Flatten())\n",
    "    model.add(Dense(units = 100, activation = 'relu'))\n",
    "    model.add(Dense(units = 2, activation = 'softmax'))\n",
    "\n",
    "    model.compile(optimizer = 'adadelta', loss='sparse_categorical_crossentropy', metrics = ['accuracy'])\n",
    "    return model"
   ]
  },
  {
   "cell_type": "code",
   "execution_count": 4,
   "metadata": {},
   "outputs": [],
   "source": [
    "import pandas as pd\n",
    "result = pd.DataFrame()\n",
    "\n",
    "def get_results(model):\n",
    "\n",
    "    config = model.get_config()\n",
    "\n",
    "    row = {}\n",
    "\n",
    "    conv_layers = np.sum([1 if i['class_name'] == \"Conv1D\" else 0 for i in config])\n",
    "    pooling_layers = np.sum([1 if i['class_name'] == \"MaxPooling1D\" else 0 for i in config])\n",
    "\n",
    "    row.update({ '_accuracy': accuracy_score(y_espected, y_predicted) })\n",
    "    row.update({ '_f1-score': f1_score(y_espected, y_predicted,average='weighted')})\n",
    "    row.update({ 'conv_layers': conv_layers })\n",
    "    row.update({ 'pooling_layers': pooling_layers })\n",
    "\n",
    "    _, _, fscore, support = precision_recall_fscore_support(y_espected, y_predicted)\n",
    "\n",
    "    [row.update({'_fscore_class_'+str(i[0]): i[1]}) for i in enumerate(fscore)]\n",
    "    [row.update({'_support_class_'+str(i[0]): i[1]}) for i in enumerate(support)]\n",
    "\n",
    "    idx = 1\n",
    "    for i in config:\n",
    "        if i['class_name'] == \"Conv1D\":\n",
    "            j = str(idx)\n",
    "            row.update({\n",
    "                'filters_'+j: i['config']['filters'],\n",
    "                'strides_'+j: i['config']['strides'],\n",
    "                'kernel_size_'+j: i['config']['kernel_size'],\n",
    "                'activation_'+j: i['config']['activation']\n",
    "            })\n",
    "        pass\n",
    "    return row"
   ]
  },
  {
   "cell_type": "code",
   "execution_count": 5,
   "metadata": {},
   "outputs": [],
   "source": [
    "def labelEncoder(y):\n",
    "    le = preprocessing.LabelEncoder()\n",
    "    le.fit(y)\n",
    "    return (le.transform(y), len(le.classes_), list(le.classes_))\n",
    "\n",
    "from sklearn.feature_extraction.text import TfidfVectorizer\n"
   ]
  },
  {
   "cell_type": "code",
   "execution_count": 6,
   "metadata": {},
   "outputs": [
    {
     "data": {
      "text/plain": [
       "((815,), (815,))"
      ]
     },
     "execution_count": 6,
     "metadata": {},
     "output_type": "execute_result"
    }
   ],
   "source": [
    "from Models.functions.datasets import loadTrainTest\n",
    "X_train, X_test, y_train, y_test = loadTrainTest(\"gender\", \"b5post\", \"/home/rafael/GDrive/Data/Dataframe/\")\n",
    "\n",
    "y_train, n, _ = labelEncoder(y_train)\n",
    "y_test, n, classes_names = labelEncoder(y_test)\n",
    "\n",
    "X = np.concatenate([X_train, X_test])\n",
    "\n",
    "vect = TfidfVectorizer()\n",
    "\n",
    "vect.fit(X)\n",
    "\n",
    "y_train.shape, X_train.shape"
   ]
  },
  {
   "cell_type": "code",
   "execution_count": 7,
   "metadata": {},
   "outputs": [],
   "source": [
    "from gensim.models import KeyedVectors\n",
    "import gensim\n",
    "from gensim.models.word2vec import Word2Vec\n",
    "from gensim.models.doc2vec import TaggedDocument"
   ]
  },
  {
   "cell_type": "code",
   "execution_count": 8,
   "metadata": {},
   "outputs": [
    {
     "name": "stdout",
     "output_type": "stream",
     "text": [
      "26911 2896.267484662577 2255.0 2255 True\n"
     ]
    }
   ],
   "source": [
    "max_length = np.max([len(x.split(\" \")) for x in X_train])\n",
    "mean_length = np.mean([len(x.split(\" \")) for x in X_train])\n",
    "mediam_length = np.median([len(x.split(\" \")) for x in X_train])\n",
    "\n",
    "print(max_length, mean_length, mediam_length, int(mediam_length), int(mediam_length) == 2255)"
   ]
  },
  {
   "cell_type": "code",
   "execution_count": null,
   "metadata": {
    "scrolled": false
   },
   "outputs": [
    {
     "name": "stdout",
     "output_type": "stream",
     "text": [
      "Found 929595 word embedding\n",
      "weights 83585\n"
     ]
    }
   ],
   "source": [
    "from keras.preprocessing.sequence import pad_sequences\n",
    "\n",
    "#w2v_path = '/home/rafael/GDrive/Data/Embeddings/skip_s100.txt'\n",
    "try:\n",
    "    if len(embeddings_index) < 2:\n",
    "        embeddings_index = None\n",
    "except:\n",
    "    embeddings_index = None    \n",
    "    \n",
    "if embeddings_index is None:\n",
    "    embeddings_index = {}        \n",
    "    f = open(r'/home/rafael/GDrive/Data/Embeddings/skip_s100.txt', encoding='utf8')\n",
    "    c = 0\n",
    "    for line in f:\n",
    "        values = line.split()\n",
    "\n",
    "\n",
    "        word = values[0]\n",
    "\n",
    "        #print(word, values[1:])\n",
    "        try:\n",
    "            coefs = np.asarray(values[1:], dtype='float32')\n",
    "\n",
    "            embeddings_index[word] = coefs\n",
    "        except:\n",
    "            pass\n",
    "\n",
    "    print('Found %s word embedding' % len(embeddings_index))\n",
    "    f.close()\n",
    "\n",
    "embedding_matrix = np.zeros((len(vect.get_feature_names()), 100))\n",
    "print(\"weights\", len(embedding_matrix))\n",
    "\n",
    "X_matrix = []\n",
    "y_matrix = []\n",
    "\n",
    "j = 0\n",
    "for j in range(len(X_train)):\n",
    "    instancia = X_train[j]\n",
    "    rows = []\n",
    "    tokens = instancia.split(\" \")\n",
    "    limit = 0    \n",
    "    \n",
    "    #n_tokens = len(tokens)    \n",
    "    n_tokens = int(mediam_length)\n",
    "    \n",
    "    i = 0\n",
    "    idx = 0\n",
    "    while i < n_tokens:  \n",
    "        \n",
    "        try:\n",
    "            palavra = tokens[idx]\n",
    "        except:\n",
    "            palavra = None\n",
    "        \n",
    "        #print(palavra, tokens[idx])\n",
    "        \n",
    "        if palavra is None: \n",
    "            idx += 1\n",
    "            continue\n",
    "        \n",
    "        if len(tokens) < i:\n",
    "            w = np.zeros(100)\n",
    "        else:\n",
    "            w = embeddings_index.get(str(palavra).lower())\n",
    "            \n",
    "        if w is None: \n",
    "            idx += 1\n",
    "            continue\n",
    "        \n",
    "        idx += 1\n",
    "        i += 1        \n",
    "        rows.append(w)\n",
    "\n",
    "    y_matrix.append( y_train[j] )    \n",
    "    X_matrix.append(rows)\n",
    "\n",
    "X_matrix, y_matrix = np.array(X_matrix), np.array(y_matrix)\n",
    "\n",
    "X_matrix.shape, y_matrix.shape"
   ]
  },
  {
   "cell_type": "code",
   "execution_count": null,
   "metadata": {},
   "outputs": [],
   "source": [
    "X_train.shape, y_train.shape"
   ]
  },
  {
   "cell_type": "code",
   "execution_count": null,
   "metadata": {},
   "outputs": [],
   "source": [
    "X_reduced = np.array([np.concatenate([X_matrix[i][j] for j in range(len(X_matrix[i]))]) for i in range(len(X_matrix))])\n",
    "X_reduced.shape, y_matrix.shape"
   ]
  },
  {
   "cell_type": "markdown",
   "metadata": {},
   "source": [
    "### Normalizer"
   ]
  },
  {
   "cell_type": "code",
   "execution_count": 17,
   "metadata": {},
   "outputs": [],
   "source": [
    "from imblearn.over_sampling import SMOTE, ADASYN\n",
    "from sklearn.preprocessing import MinMaxScaler, StandardScaler\n",
    "\n",
    "# Synthetic Minority Oversampling Technique (SMOTE)\n",
    "def oversampling(X, y):\n",
    "    X_resampled, y_resampled = SMOTE().fit_resample(X, y)\n",
    "    return X_resampled, y_resampled\n",
    "\n",
    "X_resampled, y_resampled = oversampling(X_reduced, y_matrix)\n",
    "\n",
    "#scaler = StandardScaler().fit(X)\n",
    "#m = scaler.transform(X)\n",
    "#m = matrix2"
   ]
  },
  {
   "cell_type": "markdown",
   "metadata": {},
   "source": [
    "### Split train and test"
   ]
  },
  {
   "cell_type": "code",
   "execution_count": 18,
   "metadata": {},
   "outputs": [
    {
     "name": "stdout",
     "output_type": "stream",
     "text": [
      "(710, 20000) (178, 20000) (710,) (178,)\n",
      "710 710\n",
      "178 178\n"
     ]
    },
    {
     "data": {
      "text/plain": [
       "((178, 20000, 1), (710, 20000, 1))"
      ]
     },
     "execution_count": 18,
     "metadata": {},
     "output_type": "execute_result"
    }
   ],
   "source": [
    "from sklearn.model_selection import train_test_split\n",
    "\n",
    "x_train, x_test, y_train, y_test = train_test_split(X_resampled, y_resampled, test_size = 0.2)\n",
    "print(x_train.shape, x_test.shape, y_train.shape, y_test.shape)\n",
    "\n",
    "x_train = np.reshape(x_train, (x_train.shape[0], x_train.shape[1], 1))\n",
    "x_test = np.reshape(x_test, (x_test.shape[0], x_test.shape[1], 1))\n",
    "\n",
    "\n",
    "from keras.utils import to_categorical\n",
    "#y_train = to_categorical(y_train, 2)\n",
    "#y_test = to_categorical(y_test, 2)\n",
    "print(len(y_train), len(x_train))\n",
    "print(len(y_test), len(x_test))\n",
    "#print()\n",
    "#print(y_test)\n",
    "\n",
    "x_test.shape, x_train.shape"
   ]
  },
  {
   "cell_type": "code",
   "execution_count": 24,
   "metadata": {},
   "outputs": [
    {
     "data": {
      "text/plain": [
       "<matplotlib.collections.PathCollection at 0x7f4f14416828>"
      ]
     },
     "execution_count": 24,
     "metadata": {},
     "output_type": "execute_result"
    },
    {
     "data": {
      "image/png": "[encoded data removed]",
      "text/plain": [
       "<matplotlib.figure.Figure at 0x7f4f145b2ef0>"
      ]
     },
     "metadata": {},
     "output_type": "display_data"
    }
   ],
   "source": [
    "xid, yid = 1, 2\n",
    "plt.scatter(x_train[:,xid], x_train[:,yid],c=y_train)\n",
    "#plt.ylabel(classes_names[0])\n",
    "#plt.ylabel(classes_names[1])"
   ]
  },
  {
   "cell_type": "code",
   "execution_count": 862,
   "metadata": {
    "scrolled": false
   },
   "outputs": [
    {
     "name": "stdout",
     "output_type": "stream",
     "text": [
      "Performing grid search...\n",
      "done in 12.87s and 0.2min\n",
      "\n",
      "Parameters of the best model: \n",
      "{'filters': [40], 'dropout_rate': [0.5], 'kernel_size': [50], 'epochs': 1, 'strides': [100], 'pool_size': [5]}\n",
      "Best parameters set:\n",
      "\tdropout_rate: [0.5]\n",
      "\tepochs: 1\n",
      "\tfilters: [40]\n",
      "\tkernel_size: [50]\n",
      "\tpool_size: [5]\n",
      "\tstrides: [100]\n"
     ]
    },
    {
     "data": {
      "text/html": [
       "<div>\n",
       "<style>\n",
       "    .dataframe thead tr:only-child th {\n",
       "        text-align: right;\n",
       "    }\n",
       "\n",
       "    .dataframe thead th {\n",
       "        text-align: left;\n",
       "    }\n",
       "\n",
       "    .dataframe tbody tr th {\n",
       "        vertical-align: top;\n",
       "    }\n",
       "</style>\n",
       "<table border=\"1\" class=\"dataframe\">\n",
       "  <thead>\n",
       "    <tr style=\"text-align: right;\">\n",
       "      <th></th>\n",
       "      <th>mean_fit_time</th>\n",
       "      <th>mean_score_time</th>\n",
       "      <th>mean_test_score</th>\n",
       "      <th>mean_train_score</th>\n",
       "      <th>param_dropout_rate</th>\n",
       "      <th>param_epochs</th>\n",
       "      <th>param_filters</th>\n",
       "      <th>param_kernel_size</th>\n",
       "      <th>param_pool_size</th>\n",
       "      <th>param_strides</th>\n",
       "      <th>...</th>\n",
       "      <th>split0_test_score</th>\n",
       "      <th>split0_train_score</th>\n",
       "      <th>split1_test_score</th>\n",
       "      <th>split1_train_score</th>\n",
       "      <th>split2_test_score</th>\n",
       "      <th>split2_train_score</th>\n",
       "      <th>std_fit_time</th>\n",
       "      <th>std_score_time</th>\n",
       "      <th>std_test_score</th>\n",
       "      <th>std_train_score</th>\n",
       "    </tr>\n",
       "  </thead>\n",
       "  <tbody>\n",
       "    <tr>\n",
       "      <th>0</th>\n",
       "      <td>2.563522</td>\n",
       "      <td>0.806199</td>\n",
       "      <td>0.525352</td>\n",
       "      <td>0.541501</td>\n",
       "      <td>[0.5]</td>\n",
       "      <td>1</td>\n",
       "      <td>[40]</td>\n",
       "      <td>[50]</td>\n",
       "      <td>[5]</td>\n",
       "      <td>[100]</td>\n",
       "      <td>...</td>\n",
       "      <td>0.493671</td>\n",
       "      <td>0.490486</td>\n",
       "      <td>0.476793</td>\n",
       "      <td>0.524313</td>\n",
       "      <td>0.605932</td>\n",
       "      <td>0.609705</td>\n",
       "      <td>0.027352</td>\n",
       "      <td>0.012802</td>\n",
       "      <td>0.057275</td>\n",
       "      <td>0.050165</td>\n",
       "    </tr>\n",
       "  </tbody>\n",
       "</table>\n",
       "<p>1 rows × 22 columns</p>\n",
       "</div>"
      ],
      "text/plain": [
       "   mean_fit_time  mean_score_time  mean_test_score  mean_train_score  \\\n",
       "0       2.563522         0.806199         0.525352          0.541501   \n",
       "\n",
       "  param_dropout_rate param_epochs param_filters param_kernel_size  \\\n",
       "0              [0.5]            1          [40]              [50]   \n",
       "\n",
       "  param_pool_size param_strides       ...        split0_test_score  \\\n",
       "0             [5]         [100]       ...                 0.493671   \n",
       "\n",
       "   split0_train_score  split1_test_score  split1_train_score  \\\n",
       "0            0.490486           0.476793            0.524313   \n",
       "\n",
       "   split2_test_score  split2_train_score  std_fit_time  std_score_time  \\\n",
       "0           0.605932            0.609705      0.027352        0.012802   \n",
       "\n",
       "   std_test_score  std_train_score  \n",
       "0        0.057275         0.050165  \n",
       "\n",
       "[1 rows x 22 columns]"
      ]
     },
     "metadata": {},
     "output_type": "display_data"
    }
   ],
   "source": [
    "from time import time\n",
    "\n",
    "CNN = KerasClassifier(build_fn=create_model, \n",
    "                epochs=1,\n",
    "                #batch_size=BATCH_SIZE,\n",
    "                verbose=0,\n",
    "                validation_split=0.1\n",
    "                )\n",
    "\n",
    "params_grid = dict(\n",
    "        filters = [[40]],\n",
    "        kernel_size = [[50]],\n",
    "        strides = [[100]],\n",
    "        dropout_rate = [[0.5]],\n",
    "        pool_size = [[5]],\n",
    "        epochs = [1]\n",
    "        #batch_size = 100\n",
    ")                               \n",
    "\n",
    "grid_search = GridSearchCV(CNN, \n",
    "                           params_grid, \n",
    "                           scoring='accuracy', cv=3, \n",
    "                           return_train_score=True\n",
    "                           )\n",
    "\n",
    "#print('best params', grid_search.best_params_)\n",
    "\n",
    "\n",
    "print(\"Performing grid search...\")    \n",
    "t0 = time()\n",
    "\n",
    "#histories = []\n",
    "grid_results = grid_search.fit(x_train,y_train)\n",
    "\n",
    "print(\"done in %0.2fs and %0.1fmin\" % ((time() - t0), ((time() - t0) / 60) ))\n",
    "print()\n",
    "\n",
    "print(\"Best parameters set:\")\n",
    "best_parameters = grid_search.best_estimator_.get_params()\n",
    "for param_name in sorted(params_grid.keys()):\n",
    "    print(\"\\t%s: %r\" % (param_name, best_parameters[param_name]))\n",
    "    \n",
    "display(pd.DataFrame(grid_search.cv_results_))"
   ]
  },
  {
   "cell_type": "code",
   "execution_count": 872,
   "metadata": {},
   "outputs": [
    {
     "data": {
      "text/plain": [
       "{'build_fn': <function __main__.create_model(filters=[100], kernel_size=[50], strides=[100], dropout_rate=[0.5], pool_size=[5])>,\n",
       " 'dropout_rate': [0.5],\n",
       " 'epochs': 1,\n",
       " 'filters': [40],\n",
       " 'kernel_size': [50],\n",
       " 'pool_size': [5],\n",
       " 'strides': [100],\n",
       " 'validation_split': 0.1,\n",
       " 'verbose': 0}"
      ]
     },
     "execution_count": 872,
     "metadata": {},
     "output_type": "execute_result"
    }
   ],
   "source": []
  },
  {
   "cell_type": "code",
   "execution_count": 883,
   "metadata": {
    "scrolled": false
   },
   "outputs": [
    {
     "name": "stdout",
     "output_type": "stream",
     "text": [
      "_________________________________________________________________\n",
      "Layer (type)                 Output Shape              Param #   \n",
      "=================================================================\n",
      "conv1d_131 (Conv1D)          (None, 200, 40)           2040      \n",
      "_________________________________________________________________\n",
      "max_pooling1d_124 (MaxPoolin (None, 196, 40)           0         \n",
      "_________________________________________________________________\n",
      "activation_66 (Activation)   (None, 196, 40)           0         \n",
      "_________________________________________________________________\n",
      "flatten_118 (Flatten)        (None, 7840)              0         \n",
      "_________________________________________________________________\n",
      "dense_203 (Dense)            (None, 100)               784100    \n",
      "_________________________________________________________________\n",
      "dense_204 (Dense)            (None, 2)                 202       \n",
      "=================================================================\n",
      "Total params: 786,342\n",
      "Trainable params: 786,342\n",
      "Non-trainable params: 0\n",
      "_________________________________________________________________\n"
     ]
    },
    {
     "data": {
      "image/png": "[encoded data removed]",
      "text/plain": [
       "<matplotlib.figure.Figure at 0x7f85b057af28>"
      ]
     },
     "metadata": {},
     "output_type": "display_data"
    },
    {
     "data": {
      "image/png": "[encoded data removed]",
      "text/plain": [
       "<matplotlib.figure.Figure at 0x7f85b0236b00>"
      ]
     },
     "metadata": {},
     "output_type": "display_data"
    },
    {
     "name": "stdout",
     "output_type": "stream",
     "text": [
      "Accuracy : 0.6460674157303371\n",
      "\n",
      "Classification Report\n",
      "              precision    recall  f1-score   support\n",
      "\n",
      "           0    0.57042   0.97590   0.72000        83\n",
      "           1    0.94444   0.35789   0.51908        95\n",
      "\n",
      "   micro avg    0.64607   0.64607   0.64607       178\n",
      "   macro avg    0.75743   0.66690   0.61954       178\n",
      "weighted avg    0.77004   0.64607   0.61277       178\n",
      "\n",
      "[[81  2]\n",
      " [61 34]]\n"
     ]
    },
    {
     "data": {
      "image/png": "[encoded data removed]",
      "text/plain": [
       "<matplotlib.figure.Figure at 0x7f85b1ea7a90>"
      ]
     },
     "metadata": {},
     "output_type": "display_data"
    }
   ],
   "source": [
    "params = best_parameters\n",
    "\n",
    "## create the model with the best params found\n",
    "model = create_model(filters=params['filters'],\n",
    "                     kernel_size=params['kernel_size'],\n",
    "                     strides=params['strides'],\n",
    "                     dropout_rate=params['dropout_rate'],\n",
    "                     pool_size=params['pool_size']\n",
    "                    )\n",
    "\n",
    "## Then train it and display the results\n",
    "history = model.fit(x_train,\n",
    "                    y_train,\n",
    "                    epochs=5,#params['epochs'],\n",
    "                    #batch_size=params['batch_size'],\n",
    "                    verbose = 0)\n",
    "\n",
    "model.summary()\n",
    "\n",
    "plot_history(history)\n",
    "\n",
    "\n",
    "full_multiclass_report(model,\n",
    "                       x_test,\n",
    "                       y_test,\n",
    "                       classes=classes_names\n",
    "                      )\n",
    "                       #batch_size=32,\n",
    "                       #binary= )"
   ]
  },
  {
   "cell_type": "code",
   "execution_count": null,
   "metadata": {},
   "outputs": [],
   "source": []
  },
  {
   "cell_type": "code",
   "execution_count": 859,
   "metadata": {},
   "outputs": [],
   "source": []
  },
  {
   "cell_type": "code",
   "execution_count": 880,
   "metadata": {},
   "outputs": [],
   "source": []
  },
  {
   "cell_type": "code",
   "execution_count": null,
   "metadata": {},
   "outputs": [],
   "source": []
  }
 ],
 "metadata": {
  "kernelspec": {
   "display_name": "Python 3",
   "language": "python",
   "name": "python3"
  },
  "language_info": {
   "codemirror_mode": {
    "name": "ipython",
    "version": 3
   },
   "file_extension": ".py",
   "mimetype": "text/x-python",
   "name": "python",
   "nbconvert_exporter": "python",
   "pygments_lexer": "ipython3",
   "version": "3.5.2"
  }
 },
 "nbformat": 4,
 "nbformat_minor": 2
}
