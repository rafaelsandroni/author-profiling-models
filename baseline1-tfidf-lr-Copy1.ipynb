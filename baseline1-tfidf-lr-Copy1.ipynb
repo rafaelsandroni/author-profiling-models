{
 "cells": [
  {
   "cell_type": "code",
   "execution_count": 1,
   "metadata": {},
   "outputs": [],
   "source": [
    "import matplotlib.pyplot as plt\n",
    "import warnings\n",
    "warnings.filterwarnings('ignore')\n",
    "%matplotlib inline\n",
    "from utils.grid_baseline1 import run"
   ]
  },
  {
   "cell_type": "code",
   "execution_count": 2,
   "metadata": {},
   "outputs": [
    {
     "name": "stderr",
     "output_type": "stream",
     "text": [
      "/usr/local/lib/python3.5/dist-packages/sklearn/cross_validation.py:41: DeprecationWarning: This module was deprecated in version 0.18 in favor of the model_selection module into which all the refactored classes and functions are moved. Also note that the interface of the new CV iterators are different from that of this module. This module will be removed in 0.20.\n",
      "  \"This module will be removed in 0.20.\", DeprecationWarning)\n",
      "/usr/local/lib/python3.5/dist-packages/sklearn/learning_curve.py:22: DeprecationWarning: This module was deprecated in version 0.18 in favor of the model_selection module into which all the functions are moved. This module will be removed in 0.20\n",
      "  DeprecationWarning)\n"
     ]
    }
   ],
   "source": [
    "from utils.grid_baseline1 import run"
   ]
  },
  {
   "cell_type": "markdown",
   "metadata": {},
   "source": [
    "## Gender"
   ]
  },
  {
   "cell_type": "code",
   "execution_count": null,
   "metadata": {
    "scrolled": false
   },
   "outputs": [
    {
     "name": "stdout",
     "output_type": "stream",
     "text": [
      "b5post\n",
      "training (816, 3)\n",
      "test (204, 3)\n",
      "training after cleaning (815, 3)\n",
      "test after cleaning (204, 3)\n",
      ">> classifying\n",
      "Performing grid search...\n",
      "pipeline: ['vect', 'tfidf', 'clf']\n",
      "done in 540.856s\n",
      "\n",
      "Best score: 0.879\n",
      "Best parameters set:\n",
      "\tclf__C: 2500.0000750000004\n",
      "\tclf__penalty: 'l1'\n",
      "\ttfidf__use_idf: True\n",
      "\tvect__max_df: 0.9\n",
      "\tvect__max_features: None\n",
      "\n",
      "\n",
      "             precision    recall  f1-score   support\n",
      "\n",
      "          0       0.89      0.87      0.88       116\n",
      "          1       0.84      0.86      0.85        88\n",
      "\n",
      "avg / total       0.87      0.87      0.87       204\n",
      "\n",
      ">> accuracy 0.8676470588235294\n",
      ">> f1_score 0.8678892210198221\n",
      "[[101  15]\n",
      " [ 12  76]]\n",
      "(204, 1) (204,)\n",
      "Error plotting ROC curve\n",
      "\n",
      "\n",
      "+ ------------------------------------------------------------ +\n",
      "\n",
      "esic\n",
      "training (103453, 3)\n",
      "test (25864, 3)\n",
      "training after cleaning (97490, 3)\n",
      "test after cleaning (24344, 3)\n",
      ">> classifying\n",
      "Performing grid search...\n",
      "pipeline: ['vect', 'tfidf', 'clf']\n",
      "done in 11492.087s\n",
      "\n",
      "Best score: 0.699\n",
      "Best parameters set:\n",
      "\tclf__C: 2500.0000750000004\n",
      "\tclf__penalty: 'l2'\n",
      "\ttfidf__use_idf: True\n",
      "\tvect__max_df: 0.75\n",
      "\tvect__max_features: 3000\n",
      "\n",
      "\n",
      "             precision    recall  f1-score   support\n",
      "\n",
      "          0       0.69      0.52      0.59     10054\n",
      "          1       0.71      0.83      0.77     14290\n",
      "\n",
      "avg / total       0.70      0.70      0.70     24344\n",
      "\n",
      ">> accuracy 0.7039927702924745\n",
      ">> f1_score 0.6952461755336742\n",
      "[[ 5236  4818]\n",
      " [ 2388 11902]]\n",
      "(24344, 1) (24344,)\n",
      "Error plotting ROC curve\n",
      "\n",
      "\n",
      "+ ------------------------------------------------------------ +\n",
      "\n",
      "brmoral\n",
      "training (325, 3)\n",
      "test (82, 3)\n",
      "training after cleaning (325, 3)\n",
      "test after cleaning (82, 3)\n",
      ">> classifying\n",
      "Performing grid search...\n",
      "pipeline: ['vect', 'tfidf', 'clf']\n",
      "done in 44.521s\n",
      "\n",
      "Best score: 0.711\n",
      "Best parameters set:\n",
      "\tclf__C: 10000.0\n",
      "\tclf__penalty: 'l2'\n",
      "\ttfidf__use_idf: True\n",
      "\tvect__max_df: 0.9\n",
      "\tvect__max_features: 1000\n",
      "\n",
      "\n",
      "             precision    recall  f1-score   support\n",
      "\n",
      "          0       0.46      0.54      0.50        24\n",
      "          1       0.80      0.74      0.77        58\n",
      "\n",
      "avg / total       0.70      0.68      0.69        82\n",
      "\n",
      ">> accuracy 0.6829268292682927\n",
      ">> f1_score 0.6894599303135889\n",
      "[[13 11]\n",
      " [15 43]]\n",
      "(82, 1) (82,)\n",
      "Error plotting ROC curve\n",
      "\n",
      "\n",
      "+ ------------------------------------------------------------ +\n",
      "\n",
      "enblogs\n",
      "training (15456, 3)\n",
      "test (3864, 3)\n",
      "training after cleaning (15456, 3)\n",
      "test after cleaning (3864, 3)\n",
      ">> classifying\n",
      "Performing grid search...\n",
      "pipeline: ['vect', 'tfidf', 'clf']\n"
     ]
    }
   ],
   "source": [
    "run('gender')"
   ]
  },
  {
   "cell_type": "code",
   "execution_count": null,
   "metadata": {},
   "outputs": [],
   "source": [
    "run('age')"
   ]
  },
  {
   "cell_type": "code",
   "execution_count": null,
   "metadata": {},
   "outputs": [],
   "source": []
  }
 ],
 "metadata": {
  "kernelspec": {
   "display_name": "Python 3",
   "language": "python",
   "name": "python3"
  },
  "language_info": {
   "codemirror_mode": {
    "name": "ipython",
    "version": 3
   },
   "file_extension": ".py",
   "mimetype": "text/x-python",
   "name": "python",
   "nbconvert_exporter": "python",
   "pygments_lexer": "ipython3",
   "version": "3.5.2"
  }
 },
 "nbformat": 4,
 "nbformat_minor": 2
}
