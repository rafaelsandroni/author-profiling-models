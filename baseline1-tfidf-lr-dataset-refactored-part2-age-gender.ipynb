{
 "cells": [
  {
   "cell_type": "code",
   "execution_count": 1,
   "metadata": {},
   "outputs": [],
   "source": [
    "import matplotlib.pyplot as plt\n",
    "import warnings\n",
    "warnings.filterwarnings('ignore')\n",
    "%matplotlib inline"
   ]
  },
  {
   "cell_type": "code",
   "execution_count": 2,
   "metadata": {},
   "outputs": [],
   "source": [
    "from functions.grid_baseline1 import run"
   ]
  },
  {
   "cell_type": "code",
   "execution_count": 3,
   "metadata": {
    "scrolled": false
   },
   "outputs": [
    {
     "name": "stdout",
     "output_type": "stream",
     "text": [
      "Dataset: pan13_en and task: gender\n",
      "\n",
      "training set:  (236600, 5)\n",
      "gender\n",
      "female    118300\n",
      "male      118300\n",
      "dtype: int64\n",
      "\n",
      "test set:  (21200, 5)\n",
      "gender\n",
      "female    10600\n",
      "male      10600\n",
      "dtype: int64\n",
      "\n",
      "Performing grid search...\n",
      "Pipeline steps: ['vect', 'tfidf', 'clf']\n",
      "[LibLinear][LibLinear][LibLinear][LibLinear][LibLinear][LibLinear][LibLinear][LibLinear][LibLinear][LibLinear][LibLinear][LibLinear][LibLinear][LibLinear][LibLinear][LibLinear][LibLinear][LibLinear][LibLinear][LibLinear][LibLinear][LibLinear][LibLinear][LibLinear][LibLinear][LibLinear][LibLinear][LibLinear][LibLinear][LibLinear][LibLinear][LibLinear][LibLinear][LibLinear][LibLinear][LibLinear][LibLinear][LibLinear][LibLinear][LibLinear][LibLinear][LibLinear][LibLinear][LibLinear][LibLinear][LibLinear][LibLinear][LibLinear]done in 53988.80s and 899.8min\n",
      "\n",
      "Best score: 0.613\n",
      "Best parameters set:\n",
      "\tclf__C: 1000\n",
      "\tclf__max_iter: 1500\n",
      "\tclf__penalty: 'l2'\n",
      "\tvect__max_df: 1.0\n",
      "\tvect__max_features: None\n",
      "\n",
      "\n",
      "             precision    recall  f1-score   support\n",
      "\n",
      "          0       0.60      0.51      0.55     10600\n",
      "          1       0.57      0.66      0.61     10600\n",
      "\n",
      "avg / total       0.58      0.58      0.58     21200\n",
      "\n",
      "Accuracy 0.5825943396226415\n",
      "F1_score 0.5803306716142984\n",
      "[[5397 5203]\n",
      " [3646 6954]]\n",
      "(21200, 1) (21200,)\n",
      "Error plotting ROC curve\n",
      "\n",
      "\n",
      "+ ------------------------------------------------------------ +\n",
      "\n"
     ]
    }
   ],
   "source": [
    "run('gender', 'pan13_en')"
   ]
  },
  {
   "cell_type": "code",
   "execution_count": null,
   "metadata": {},
   "outputs": [
    {
     "name": "stdout",
     "output_type": "stream",
     "text": [
      "Dataset: pan13_es and task: gender\n",
      "\n",
      "training set:  (236600, 5)\n",
      "gender\n",
      "female    118300\n",
      "male      118300\n",
      "dtype: int64\n",
      "\n",
      "test set:  (21200, 5)\n",
      "gender\n",
      "female    10600\n",
      "male      10600\n",
      "dtype: int64\n",
      "\n",
      "Performing grid search...\n",
      "Pipeline steps: ['vect', 'tfidf', 'clf']\n",
      "[LibLinear][LibLinear][LibLinear][LibLinear][LibLinear][LibLinear][LibLinear][LibLinear][LibLinear][LibLinear][LibLinear][LibLinear][LibLinear][LibLinear][LibLinear]"
     ]
    }
   ],
   "source": [
    "run('gender', 'pan13_es')"
   ]
  },
  {
   "cell_type": "code",
   "execution_count": 8,
   "metadata": {},
   "outputs": [],
   "source": [
    "df = getDatasets('age','df')"
   ]
  },
  {
   "cell_type": "code",
   "execution_count": 9,
   "metadata": {},
   "outputs": [
    {
     "data": {
      "text/html": [
       "<div>\n",
       "<style scoped>\n",
       "    .dataframe tbody tr th:only-of-type {\n",
       "        vertical-align: middle;\n",
       "    }\n",
       "\n",
       "    .dataframe tbody tr th {\n",
       "        vertical-align: top;\n",
       "    }\n",
       "\n",
       "    .dataframe thead th {\n",
       "        text-align: right;\n",
       "    }\n",
       "</style>\n",
       "<table border=\"1\" class=\"dataframe\">\n",
       "  <thead>\n",
       "    <tr style=\"text-align: right;\">\n",
       "      <th></th>\n",
       "      <th>dataset_name</th>\n",
       "      <th>path</th>\n",
       "      <th>task</th>\n",
       "      <th>training</th>\n",
       "      <th>test</th>\n",
       "    </tr>\n",
       "  </thead>\n",
       "  <tbody>\n",
       "    <tr>\n",
       "      <th>0</th>\n",
       "      <td>b5post</td>\n",
       "      <td>/home/rafael/drive/Data/Dataframe/b5post</td>\n",
       "      <td>age</td>\n",
       "      <td>age_pt_training_df.csv</td>\n",
       "      <td>age_pt_test_df.csv</td>\n",
       "    </tr>\n",
       "    <tr>\n",
       "      <th>1</th>\n",
       "      <td>esic</td>\n",
       "      <td>/home/rafael/drive/Data/Dataframe/esic</td>\n",
       "      <td>age</td>\n",
       "      <td>age_pt_training_df.csv</td>\n",
       "      <td>age_pt_test_df.csv</td>\n",
       "    </tr>\n",
       "    <tr>\n",
       "      <th>2</th>\n",
       "      <td>brmoral</td>\n",
       "      <td>/home/rafael/drive/Data/Dataframe/brmoral</td>\n",
       "      <td>age</td>\n",
       "      <td>age_pt_training_df.csv</td>\n",
       "      <td>age_pt_test_df.csv</td>\n",
       "    </tr>\n",
       "    <tr>\n",
       "      <th>3</th>\n",
       "      <td>enblogs</td>\n",
       "      <td>/home/rafael/drive/Data/Dataframe/enblogs</td>\n",
       "      <td>age</td>\n",
       "      <td>age_en_training_df.csv</td>\n",
       "      <td>age_en_test_df.csv</td>\n",
       "    </tr>\n",
       "    <tr>\n",
       "      <th>4</th>\n",
       "      <td>brblogset</td>\n",
       "      <td>/home/rafael/drive/Data/Dataframe/brblogset</td>\n",
       "      <td>age</td>\n",
       "      <td>age_pt_training_df.csv</td>\n",
       "      <td>age_pt_test_df.csv</td>\n",
       "    </tr>\n",
       "    <tr>\n",
       "      <th>5</th>\n",
       "      <td>pan13_en</td>\n",
       "      <td>/home/rafael/drive/Data/Dataframe/pan13_en</td>\n",
       "      <td>age</td>\n",
       "      <td>gender_age_en_training_df.csv</td>\n",
       "      <td>gender_age_en_test1_df.csv</td>\n",
       "    </tr>\n",
       "    <tr>\n",
       "      <th>6</th>\n",
       "      <td>pan13_es</td>\n",
       "      <td>/home/rafael/drive/Data/Dataframe/pan13_es</td>\n",
       "      <td>age</td>\n",
       "      <td>gender_age_es_training_df.csv</td>\n",
       "      <td>gender_age_es_test1_df.csv</td>\n",
       "    </tr>\n",
       "  </tbody>\n",
       "</table>\n",
       "</div>"
      ],
      "text/plain": [
       "  dataset_name                                         path task  \\\n",
       "0       b5post     /home/rafael/drive/Data/Dataframe/b5post  age   \n",
       "1         esic       /home/rafael/drive/Data/Dataframe/esic  age   \n",
       "2      brmoral    /home/rafael/drive/Data/Dataframe/brmoral  age   \n",
       "3      enblogs    /home/rafael/drive/Data/Dataframe/enblogs  age   \n",
       "4    brblogset  /home/rafael/drive/Data/Dataframe/brblogset  age   \n",
       "5     pan13_en   /home/rafael/drive/Data/Dataframe/pan13_en  age   \n",
       "6     pan13_es   /home/rafael/drive/Data/Dataframe/pan13_es  age   \n",
       "\n",
       "                        training                        test  \n",
       "0         age_pt_training_df.csv          age_pt_test_df.csv  \n",
       "1         age_pt_training_df.csv          age_pt_test_df.csv  \n",
       "2         age_pt_training_df.csv          age_pt_test_df.csv  \n",
       "3         age_en_training_df.csv          age_en_test_df.csv  \n",
       "4         age_pt_training_df.csv          age_pt_test_df.csv  \n",
       "5  gender_age_en_training_df.csv  gender_age_en_test1_df.csv  \n",
       "6  gender_age_es_training_df.csv  gender_age_es_test1_df.csv  "
      ]
     },
     "execution_count": 9,
     "metadata": {},
     "output_type": "execute_result"
    }
   ],
   "source": [
    "df"
   ]
  },
  {
   "cell_type": "code",
   "execution_count": null,
   "metadata": {},
   "outputs": [],
   "source": []
  }
 ],
 "metadata": {
  "kernelspec": {
   "display_name": "Python 3",
   "language": "python",
   "name": "python3"
  },
  "language_info": {
   "codemirror_mode": {
    "name": "ipython",
    "version": 3
   },
   "file_extension": ".py",
   "mimetype": "text/x-python",
   "name": "python",
   "nbconvert_exporter": "python",
   "pygments_lexer": "ipython3",
   "version": "3.6.5"
  }
 },
 "nbformat": 4,
 "nbformat_minor": 2
}
